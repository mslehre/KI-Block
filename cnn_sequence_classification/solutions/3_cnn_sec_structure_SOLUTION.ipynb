{
 "cells": [
  {
   "cell_type": "markdown",
   "metadata": {},
   "source": [
    "# 3 CNN Prediction using secondary structure\n",
    "\n",
    "The secondary structure of RNA sequences can be predicted from the initial nucleotide sequence. Roughly summarized each nucleotide has a tendency to be paired and has preferences to bind to another nucleotide. These rules can be used to predict based on thermal dynamics the optimal secondary structure. One popular tool to predict the secondary structure in silico is the method \"RNAfold\" by ViennaRNA ([PubMed](https://www.ncbi.nlm.nih.gov/pmc/articles/PMC2447809/)). The secondary structure is usually represented as a dot-bracket notation, which encodes the structure using the \".\", \"(\" and \")\" characters, where \".\" represents an unpaired nucleotide, and a pair of opening and closing brackets encodes two nucleotides, that are paired with each other.\n",
    "\n",
    "We now have two \"channels\" of our input (sequence and structure), similarly to how an image has the three RGB channels, we are hoping to see improvements in the prediction, similarly to how an image classifier might have better results when trained on colored pictures instead of grey-scale. We will try to introduce the two channels after first using just the dot-bracket code but also test a the inclusion of a priori knowledge by annotating the dot-bracket code depending on specific patterns of secondary structures like several loops. To this end, the tool [Pysster](https://pubmed.ncbi.nlm.nih.gov/29659719/) uses \"RNAfold\" for the structure prediction and annotates substructures (F: 5'-end; S: Stem; H: Hairpin Loop; M: Multiloop; I: Internal Loop; and T: 3'-end) based on the dot-bracket notation.\n",
    "\n",
    "Example:\n",
    "\n",
    "Nucleotide Sequence\n",
    "\n",
    "`GTGCCTTTTAAGGCTGATGCAGTGCTTTAAGAGGCTAACACTGAAGGGTAAAGAAAACCATAAAACCCAGAGAAGAGATTGCAAAACTCCTCTTTGAATCCTGTCTGGATTCAAAGCT`\n",
    "\n",
    "Dot-Bracket Notation\n",
    "\n",
    "`..((((((((((((.........))))))))))))..........((((...............))))......(((.((....)))))..((((((((((.....))))))))))..`\n",
    "\n",
    "With a priori knowledge annotated substructures\n",
    "\n",
    "`FFSSSSSSSSSSSSHHHHHHHHHSSSSSSSSSSSSMMMMMMMMMMSSSSHHHHHHHHHHHHHHHSSSSMMMMMMSSSISSHHHHSSSSSMMSSSSSSSSSSHHHHHSSSSSSSSSSTT`\n",
    "\n",
    "---\n",
    "\n",
    "## Read in the data\n",
    "\n",
    "We want to compare how well we can predict the snoRNA type using the different secondary structure annotations. Let's start by reading in the annotations, you can find them in `snoRNA_secondary_structure.txt`. The file has the following format\n",
    "\n",
    "`>sequence_id` \n",
    "\n",
    "`snorna_type`\n",
    "\n",
    "`nucleotide sequence`\n",
    "\n",
    "`dot-bracket-notation`\n",
    "\n",
    "`structure annotation`\n",
    "\n",
    "Example:\n",
    "\n",
    "`>URS000217EFFD_55149`\n",
    "\n",
    "`HACA-Box`\n",
    "\n",
    "`GTGCCTTTTAAGGCTGATGCAGTGCTTTAAGAGGCTAACACTGAAGGGTAAAGAAAACCATAAAACCCAGAGAAGAGATTGCAAAACTCCTCTTTGAATCCTGTCTGGATTCAAAGCT`\n",
    "\n",
    "`..((((((((((((.........))))))))))))..........((((...............))))......(((.((....)))))..((((((((((.....))))))))))..`\n",
    "\n",
    "`FFSSSSSSSSSSSSHHHHHHHHHSSSSSSSSSSSSMMMMMMMMMMSSSSHHHHHHHHHHHHHHHSSSSMMMMMMSSSISSHHHHSSSSSMMSSSSSSSSSSHHHHHSSSSSSSSSSTT`"
   ]
  },
  {
   "cell_type": "markdown",
   "metadata": {},
   "source": [
    "## Create a data frame to read in the different sequence information\n",
    "\n",
    "To read in the data input, create five empty lists to which you can append the entries for each sample. The first list, `id_list`, will be for the sequence IDs, the second list ,`type_list`, will be for the snoRNA type, the third list, `seq_list`, will be for the nucleotide sequences, the fourth list is called `dotbrack_list` and contains the dot-bracket-notation, and lastly, the list `structure_list` is for the sequence of structure annotations. \n",
    "\n",
    "We will read the file in, by iterating line by line while having a counter variable count the line we are on. Since there are 5 lines for each entry, we can simply divide the length of the file by 5 and access each sequence by iterating to this number with the variable `i`. the `i`-th line will then be the ID, the `i+1`-th line will be the type, etc. "
   ]
  },
  {
   "cell_type": "code",
   "execution_count": 1,
   "metadata": {},
   "outputs": [],
   "source": [
    "import pandas as pd\n",
    "pd.options.mode.chained_assignment = None\n",
    "\n",
    "structure_file = open(\"snorna_seq_dotbrack_structure.txt\")\n",
    "lines = structure_file.readlines()\n",
    "n_lines = len(lines)\n",
    "n_sequences = int(n_lines/5)\n",
    "\n",
    "id_list = []\n",
    "type_list = []\n",
    "seq_list = []\n",
    "dotbrack_list = []\n",
    "structure_list = []\n",
    "\n",
    "# iteration through the file in steps of five\n",
    "for i in range(n_sequences):\n",
    "    id_list.append(lines[i*5].strip(\">\").strip(\"\\n\")) \n",
    "    type_list.append(lines[i*5+1].strip(\"\\n\"))\n",
    "    seq_list.append(lines[i*5+2].strip(\"\\n\"))\n",
    "    dotbrack_list.append(lines[i*5+3].strip(\"\\n\"))\n",
    "    structure_list.append(lines[i*5+4].strip(\"\\n\"))\n",
    "\n",
    "# Form a dictionary from the lists\n",
    "struct_dict = {\"id\": id_list, \"type\": type_list, \"sequence\": seq_list, \"dot_bracket\": dotbrack_list, \"structure\": structure_list}\n",
    "\n",
    "# Transform into a DataFrame\n",
    "struct_df = pd.DataFrame.from_dict(struct_dict)\n",
    "\n",
    "# Close the file\n",
    "structure_file.close()\n",
    "                   \n",
    "        "
   ]
  },
  {
   "cell_type": "code",
   "execution_count": 2,
   "metadata": {},
   "outputs": [
    {
     "data": {
      "text/html": [
       "<div>\n",
       "<style scoped>\n",
       "    .dataframe tbody tr th:only-of-type {\n",
       "        vertical-align: middle;\n",
       "    }\n",
       "\n",
       "    .dataframe tbody tr th {\n",
       "        vertical-align: top;\n",
       "    }\n",
       "\n",
       "    .dataframe thead th {\n",
       "        text-align: right;\n",
       "    }\n",
       "</style>\n",
       "<table border=\"1\" class=\"dataframe\">\n",
       "  <thead>\n",
       "    <tr style=\"text-align: right;\">\n",
       "      <th></th>\n",
       "      <th>id</th>\n",
       "      <th>type</th>\n",
       "      <th>sequence</th>\n",
       "      <th>dot_bracket</th>\n",
       "      <th>structure</th>\n",
       "    </tr>\n",
       "  </thead>\n",
       "  <tbody>\n",
       "    <tr>\n",
       "      <th>0</th>\n",
       "      <td>URS0000A9E1E7_7918</td>\n",
       "      <td>HACA-Box</td>\n",
       "      <td>GCATGGCAATGGATTTATGGTGGGGTCTGCCACATGACCCTTCCAT...</td>\n",
       "      <td>((((((....((((((((((.((((((........)))))).))))...</td>\n",
       "      <td>SSSSSSIIIISSSSSSSSSSISSSSSSHHHHHHHHSSSSSSISSSS...</td>\n",
       "    </tr>\n",
       "    <tr>\n",
       "      <th>1</th>\n",
       "      <td>URS000217EFFD_55149</td>\n",
       "      <td>HACA-Box</td>\n",
       "      <td>GTGCCTTTTAAGGCTGATGCAGTGCTTTAAGAGGCTAACACTGAAG...</td>\n",
       "      <td>..((((((((((((.........))))))))))))..........(...</td>\n",
       "      <td>FFSSSSSSSSSSSSHHHHHHHHHSSSSSSSSSSSSMMMMMMMMMMS...</td>\n",
       "    </tr>\n",
       "    <tr>\n",
       "      <th>2</th>\n",
       "      <td>URS0000C2E709_407821</td>\n",
       "      <td>HACA-Box</td>\n",
       "      <td>CCTCCTTATTTTGGCACTCTGTCACCTCTGTGGTGATGACGTGAAT...</td>\n",
       "      <td>((((((........(((((.((((((.....)))))))).)))......</td>\n",
       "      <td>SSSSSSIIIIIIIISSSSSISSSSSSHHHHHSSSSSSSSISSSIII...</td>\n",
       "    </tr>\n",
       "    <tr>\n",
       "      <th>3</th>\n",
       "      <td>URS0000A9934E_9371</td>\n",
       "      <td>HACA-Box</td>\n",
       "      <td>ATGCTCCAGATTCCTTACCCATCAGACATAAACATTGATCTGAGTG...</td>\n",
       "      <td>.(.((((...((..(((((..(((((((.......)).)))))..)...</td>\n",
       "      <td>FSISSSSIIISSIISSSSSIISSSSSSSHHHHHHHSSISSSSSIIS...</td>\n",
       "    </tr>\n",
       "    <tr>\n",
       "      <th>4</th>\n",
       "      <td>URS0000C88F37_225400</td>\n",
       "      <td>HACA-Box</td>\n",
       "      <td>TGCAGCCGTGTCAAATTCGGTGCCTGCCCCCCATGGCAGGCATTGG...</td>\n",
       "      <td>((.(((((((((.....(((((((((((......)))))))))))(...</td>\n",
       "      <td>SSISSSSSSSSSMMMMMSSSSSSSSSSSHHHHHHSSSSSSSSSSSS...</td>\n",
       "    </tr>\n",
       "    <tr>\n",
       "      <th>...</th>\n",
       "      <td>...</td>\n",
       "      <td>...</td>\n",
       "      <td>...</td>\n",
       "      <td>...</td>\n",
       "      <td>...</td>\n",
       "    </tr>\n",
       "    <tr>\n",
       "      <th>5734</th>\n",
       "      <td>URS0000BD9919_885580</td>\n",
       "      <td>scaRNA</td>\n",
       "      <td>CTTCTTGAGAGGGAGCGTGGCCTGGGGTTGTAGGTGTTCTTGTGCA...</td>\n",
       "      <td>((((((...)))))).((((((((((((.(((((....(((.((((...</td>\n",
       "      <td>SSSSSSHHHSSSSSSMSSSSSSSSSSSSMSSSSSMMMMSSSISSSS...</td>\n",
       "    </tr>\n",
       "    <tr>\n",
       "      <th>5735</th>\n",
       "      <td>URS0000BD9A6B_51337</td>\n",
       "      <td>scaRNA</td>\n",
       "      <td>TTTTCTTTTTCTTTTTTTCTGCTCCTCTGTGCCTAGCTCTAACAGG...</td>\n",
       "      <td>........................((((((((((.(((((..((((...</td>\n",
       "      <td>FFFFFFFFFFFFFFFFFFFFFFFFSSSSSSSSSSMSSSSSIISSSS...</td>\n",
       "    </tr>\n",
       "    <tr>\n",
       "      <th>5736</th>\n",
       "      <td>URS0000BDA087_10160</td>\n",
       "      <td>scaRNA</td>\n",
       "      <td>ATGCTGTTGACAGAAAGAACGAGCTAATACATTATGATAGTGGGGC...</td>\n",
       "      <td>..((((((.........))).))).....(.((((.((((((((.....</td>\n",
       "      <td>FFSSSSSSHHHHHHHHHSSSISSSMMMMMSISSSSISSSSSSSSII...</td>\n",
       "    </tr>\n",
       "    <tr>\n",
       "      <th>5737</th>\n",
       "      <td>URS0000BDA2D9_10036</td>\n",
       "      <td>scaRNA</td>\n",
       "      <td>TATGGAAGCTGCAGAACCAACCATGCAAACAAGTAAAAAACACCTT...</td>\n",
       "      <td>...(((...((((..........))))......................</td>\n",
       "      <td>FFFSSSMMMSSSSHHHHHHHHHHSSSSMMMMMMMMMMMMMMMMMMM...</td>\n",
       "    </tr>\n",
       "    <tr>\n",
       "      <th>5738</th>\n",
       "      <td>URS0000BDA627_34839</td>\n",
       "      <td>scaRNA</td>\n",
       "      <td>GGCCTCTTGCCCCTGGTGTTGCTGGGGATCCCATTGCTCCTCAGCC...</td>\n",
       "      <td>(((((((.((((.((.....((((((((.........)))))))))...</td>\n",
       "      <td>SSSSSSSISSSSISSIIIIISSSSSSSSHHHHHHHHHSSSSSSSSS...</td>\n",
       "    </tr>\n",
       "  </tbody>\n",
       "</table>\n",
       "<p>5739 rows × 5 columns</p>\n",
       "</div>"
      ],
      "text/plain": [
       "                        id      type  \\\n",
       "0       URS0000A9E1E7_7918  HACA-Box   \n",
       "1      URS000217EFFD_55149  HACA-Box   \n",
       "2     URS0000C2E709_407821  HACA-Box   \n",
       "3       URS0000A9934E_9371  HACA-Box   \n",
       "4     URS0000C88F37_225400  HACA-Box   \n",
       "...                    ...       ...   \n",
       "5734  URS0000BD9919_885580    scaRNA   \n",
       "5735   URS0000BD9A6B_51337    scaRNA   \n",
       "5736   URS0000BDA087_10160    scaRNA   \n",
       "5737   URS0000BDA2D9_10036    scaRNA   \n",
       "5738   URS0000BDA627_34839    scaRNA   \n",
       "\n",
       "                                               sequence  \\\n",
       "0     GCATGGCAATGGATTTATGGTGGGGTCTGCCACATGACCCTTCCAT...   \n",
       "1     GTGCCTTTTAAGGCTGATGCAGTGCTTTAAGAGGCTAACACTGAAG...   \n",
       "2     CCTCCTTATTTTGGCACTCTGTCACCTCTGTGGTGATGACGTGAAT...   \n",
       "3     ATGCTCCAGATTCCTTACCCATCAGACATAAACATTGATCTGAGTG...   \n",
       "4     TGCAGCCGTGTCAAATTCGGTGCCTGCCCCCCATGGCAGGCATTGG...   \n",
       "...                                                 ...   \n",
       "5734  CTTCTTGAGAGGGAGCGTGGCCTGGGGTTGTAGGTGTTCTTGTGCA...   \n",
       "5735  TTTTCTTTTTCTTTTTTTCTGCTCCTCTGTGCCTAGCTCTAACAGG...   \n",
       "5736  ATGCTGTTGACAGAAAGAACGAGCTAATACATTATGATAGTGGGGC...   \n",
       "5737  TATGGAAGCTGCAGAACCAACCATGCAAACAAGTAAAAAACACCTT...   \n",
       "5738  GGCCTCTTGCCCCTGGTGTTGCTGGGGATCCCATTGCTCCTCAGCC...   \n",
       "\n",
       "                                            dot_bracket  \\\n",
       "0     ((((((....((((((((((.((((((........)))))).))))...   \n",
       "1     ..((((((((((((.........))))))))))))..........(...   \n",
       "2     ((((((........(((((.((((((.....)))))))).)))......   \n",
       "3     .(.((((...((..(((((..(((((((.......)).)))))..)...   \n",
       "4     ((.(((((((((.....(((((((((((......)))))))))))(...   \n",
       "...                                                 ...   \n",
       "5734  ((((((...)))))).((((((((((((.(((((....(((.((((...   \n",
       "5735  ........................((((((((((.(((((..((((...   \n",
       "5736  ..((((((.........))).))).....(.((((.((((((((.....   \n",
       "5737  ...(((...((((..........))))......................   \n",
       "5738  (((((((.((((.((.....((((((((.........)))))))))...   \n",
       "\n",
       "                                              structure  \n",
       "0     SSSSSSIIIISSSSSSSSSSISSSSSSHHHHHHHHSSSSSSISSSS...  \n",
       "1     FFSSSSSSSSSSSSHHHHHHHHHSSSSSSSSSSSSMMMMMMMMMMS...  \n",
       "2     SSSSSSIIIIIIIISSSSSISSSSSSHHHHHSSSSSSSSISSSIII...  \n",
       "3     FSISSSSIIISSIISSSSSIISSSSSSSHHHHHHHSSISSSSSIIS...  \n",
       "4     SSISSSSSSSSSMMMMMSSSSSSSSSSSHHHHHHSSSSSSSSSSSS...  \n",
       "...                                                 ...  \n",
       "5734  SSSSSSHHHSSSSSSMSSSSSSSSSSSSMSSSSSMMMMSSSISSSS...  \n",
       "5735  FFFFFFFFFFFFFFFFFFFFFFFFSSSSSSSSSSMSSSSSIISSSS...  \n",
       "5736  FFSSSSSSHHHHHHHHHSSSISSSMMMMMSISSSSISSSSSSSSII...  \n",
       "5737  FFFSSSMMMSSSSHHHHHHHHHHSSSSMMMMMMMMMMMMMMMMMMM...  \n",
       "5738  SSSSSSSISSSSISSIIIIISSSSSSSSHHHHHHHHHSSSSSSSSS...  \n",
       "\n",
       "[5739 rows x 5 columns]"
      ]
     },
     "execution_count": 2,
     "metadata": {},
     "output_type": "execute_result"
    }
   ],
   "source": [
    "struct_df"
   ]
  },
  {
   "cell_type": "markdown",
   "metadata": {},
   "source": [
    "We will use the same model architecture from before here but feel free to adapt it to your optimized version. \n",
    "Our next models will all be tested on the same architecture and the only adjustment from our previous architecture will be the size of the second input dimension (to account for different encodings). \n",
    "\n",
    "We will create our CNN model to easily adjust the second input dimension (the number of rows in each one-hot-encoded vector) as an input parameter."
   ]
  },
  {
   "cell_type": "code",
   "execution_count": 3,
   "metadata": {},
   "outputs": [],
   "source": [
    "import keras\n",
    "\n",
    "def create_cnn_model_struct(input_dim_2):\n",
    "\n",
    "    # create the model\n",
    "    model = keras.Sequential()\n",
    "\n",
    "    # You may adapt the parameters to the optimized ones from the last notebook\n",
    "    model.add(keras.layers.Conv1D(128, 11, activation='relu', padding='same', input_shape=(600, input_dim_2)))\n",
    "    model.add(keras.layers.MaxPooling1D(4))\n",
    "    model.add(keras.layers.Dropout(rate = 0.5))\n",
    "    \n",
    "    # You may adapt the parameters to the optimized ones from the last notebook\n",
    "    model.add(keras.layers.Conv1D(64, 7, activation='relu', padding='same'))\n",
    "    model.add(keras.layers.MaxPooling1D(4))\n",
    "    model.add(keras.layers.Dropout(rate = 0.5))\n",
    "    \n",
    "    model.add(keras.layers.Flatten())\n",
    "    model.add(keras.layers.Dense(3, activation=\"softmax\"))\n",
    "\n",
    "    Adam = keras.optimizers.Adam(learning_rate=0.001)\n",
    "    model.compile(optimizer=Adam, loss='categorical_crossentropy', metrics=['accuracy'])\n",
    "    \n",
    "    return model"
   ]
  },
  {
   "cell_type": "markdown",
   "metadata": {},
   "source": [
    "Next, we will have to perform the same preprocessing steps for the dot-bracket notation (padding, ordinal encoding, one-hot-encoding)"
   ]
  },
  {
   "cell_type": "code",
   "execution_count": 4,
   "metadata": {},
   "outputs": [],
   "source": [
    "from sklearn.preprocessing import OneHotEncoder\n",
    "import numpy as np\n",
    "\n",
    "# Pad and ordinal encode the dot bracket notation\n",
    "struct_df[\"db_pad\"] = struct_df.dot_bracket.str.rjust(600, \"_\")\n",
    "struct_df[\"db_pad_ord\"] = struct_df.db_pad.map(lambda x: [ord(c) for c in x])\n",
    "\n",
    "# One-hot encode the dot-bracket\n",
    "ohe_seq_1 = OneHotEncoder(sparse=False, handle_unknown=\"ignore\")\n",
    "ohe_seq_1.fit(np.array(struct_df.db_pad_ord[0]).reshape(-1, 1))\n",
    "struct_df[\"db_ohe\"] = struct_df.db_pad_ord.map(lambda x: ohe_seq_1.transform(np.array(x).reshape(-1,1)))"
   ]
  },
  {
   "cell_type": "markdown",
   "metadata": {},
   "source": [
    "We will need numbers again after this. Set the seed to the same number as in the previous notebook in the following cell. We will use the same random seed for the entire notebook, so don't change it again after setting it once. "
   ]
  },
  {
   "cell_type": "code",
   "execution_count": 5,
   "metadata": {},
   "outputs": [],
   "source": [
    "random = 1896"
   ]
  },
  {
   "cell_type": "markdown",
   "metadata": {},
   "source": [
    "Split into train and test"
   ]
  },
  {
   "cell_type": "code",
   "execution_count": 6,
   "metadata": {},
   "outputs": [],
   "source": [
    "from sklearn.model_selection import train_test_split\n",
    "\n",
    "# Split into train and test\n",
    "X_train, X_test, Y_train, Y_test = train_test_split(struct_df[[\"db_ohe\"]], struct_df[\"type\"], test_size=0.15, random_state=random, stratify=struct_df[\"type\"])"
   ]
  },
  {
   "cell_type": "markdown",
   "metadata": {},
   "source": [
    "Encode the labels"
   ]
  },
  {
   "cell_type": "code",
   "execution_count": 7,
   "metadata": {},
   "outputs": [],
   "source": [
    "# One hot encode the labels\n",
    "ohe = OneHotEncoder(sparse=False)  # Create an instance of the OneHotEncoder class. sparse=True would be useful for instances with a lot of different labels, but for us we don't need it\n",
    "ohe.fit(np.array(Y_train).reshape(-1, 1))  # Fit the encoder to our data\n",
    "Y_train_ohe = ohe.transform(np.array(Y_train).reshape(-1, 1))  # Transform the training labels\n",
    "Y_test_ohe = ohe.transform(np.array(Y_test).reshape(-1, 1))  # Transform the test labels"
   ]
  },
  {
   "cell_type": "markdown",
   "metadata": {},
   "source": [
    "Transform input into arrays. Since there are four different characters, `.`, `(`, `)` and `_`, the second dimension will be four.  "
   ]
  },
  {
   "cell_type": "code",
   "execution_count": 8,
   "metadata": {},
   "outputs": [],
   "source": [
    "# Turn train and test input into arrays\n",
    "X_train_db_array = np.array(X_train.db_ohe.to_list()).reshape(len(X_train), 600, 4)\n",
    "X_test_db_array = np.array(X_test.db_ohe.to_list()).reshape(len(X_test), 600, 4)"
   ]
  },
  {
   "cell_type": "markdown",
   "metadata": {},
   "source": [
    "Investigate the prediction accuracy of the dot-bracket CNN model."
   ]
  },
  {
   "cell_type": "code",
   "execution_count": 9,
   "metadata": {},
   "outputs": [
    {
     "name": "stdout",
     "output_type": "stream",
     "text": [
      "Epoch 1/40\n",
      "104/104 - 16s - loss: 0.8012 - accuracy: 0.6261 - val_loss: 0.6704 - val_accuracy: 0.6995 - 16s/epoch - 153ms/step\n",
      "Epoch 2/40\n",
      "104/104 - 15s - loss: 0.6668 - accuracy: 0.6954 - val_loss: 0.6037 - val_accuracy: 0.7500 - 15s/epoch - 147ms/step\n",
      "Epoch 3/40\n",
      "104/104 - 15s - loss: 0.6197 - accuracy: 0.7315 - val_loss: 0.5762 - val_accuracy: 0.7541 - 15s/epoch - 149ms/step\n",
      "Epoch 4/40\n",
      "104/104 - 15s - loss: 0.5912 - accuracy: 0.7446 - val_loss: 0.5606 - val_accuracy: 0.7609 - 15s/epoch - 147ms/step\n",
      "Epoch 5/40\n",
      "104/104 - 15s - loss: 0.5844 - accuracy: 0.7492 - val_loss: 0.5542 - val_accuracy: 0.7691 - 15s/epoch - 147ms/step\n",
      "Epoch 6/40\n",
      "104/104 - 15s - loss: 0.5574 - accuracy: 0.7631 - val_loss: 0.5278 - val_accuracy: 0.7869 - 15s/epoch - 147ms/step\n",
      "Epoch 7/40\n",
      "104/104 - 15s - loss: 0.5590 - accuracy: 0.7588 - val_loss: 0.5287 - val_accuracy: 0.7869 - 15s/epoch - 147ms/step\n",
      "Epoch 8/40\n",
      "104/104 - 15s - loss: 0.5437 - accuracy: 0.7759 - val_loss: 0.5165 - val_accuracy: 0.7842 - 15s/epoch - 147ms/step\n",
      "Epoch 9/40\n",
      "104/104 - 15s - loss: 0.5320 - accuracy: 0.7716 - val_loss: 0.5320 - val_accuracy: 0.7760 - 15s/epoch - 147ms/step\n",
      "Epoch 10/40\n",
      "104/104 - 15s - loss: 0.5151 - accuracy: 0.7892 - val_loss: 0.5062 - val_accuracy: 0.7978 - 15s/epoch - 147ms/step\n",
      "Epoch 11/40\n",
      "104/104 - 15s - loss: 0.5014 - accuracy: 0.7868 - val_loss: 0.5132 - val_accuracy: 0.7842 - 15s/epoch - 148ms/step\n",
      "Epoch 12/40\n",
      "104/104 - 15s - loss: 0.4986 - accuracy: 0.7892 - val_loss: 0.5003 - val_accuracy: 0.7869 - 15s/epoch - 147ms/step\n",
      "Epoch 13/40\n",
      "104/104 - 15s - loss: 0.4958 - accuracy: 0.7950 - val_loss: 0.4848 - val_accuracy: 0.8033 - 15s/epoch - 146ms/step\n",
      "Epoch 14/40\n",
      "104/104 - 15s - loss: 0.4901 - accuracy: 0.7957 - val_loss: 0.4877 - val_accuracy: 0.8074 - 15s/epoch - 148ms/step\n",
      "Epoch 15/40\n",
      "104/104 - 15s - loss: 0.4758 - accuracy: 0.7974 - val_loss: 0.4820 - val_accuracy: 0.7992 - 15s/epoch - 148ms/step\n",
      "Epoch 16/40\n",
      "104/104 - 15s - loss: 0.4684 - accuracy: 0.8025 - val_loss: 0.4828 - val_accuracy: 0.7992 - 15s/epoch - 147ms/step\n",
      "Epoch 17/40\n",
      "104/104 - 15s - loss: 0.4627 - accuracy: 0.8029 - val_loss: 0.4759 - val_accuracy: 0.8033 - 15s/epoch - 148ms/step\n",
      "Epoch 18/40\n",
      "104/104 - 15s - loss: 0.4669 - accuracy: 0.8068 - val_loss: 0.4773 - val_accuracy: 0.8115 - 15s/epoch - 147ms/step\n",
      "Epoch 19/40\n",
      "104/104 - 15s - loss: 0.4582 - accuracy: 0.8078 - val_loss: 0.4711 - val_accuracy: 0.8115 - 15s/epoch - 148ms/step\n",
      "Epoch 20/40\n",
      "104/104 - 15s - loss: 0.4354 - accuracy: 0.8191 - val_loss: 0.4789 - val_accuracy: 0.8046 - 15s/epoch - 147ms/step\n",
      "Epoch 21/40\n",
      "104/104 - 15s - loss: 0.4350 - accuracy: 0.8160 - val_loss: 0.4706 - val_accuracy: 0.8101 - 15s/epoch - 147ms/step\n",
      "Epoch 22/40\n",
      "104/104 - 16s - loss: 0.4330 - accuracy: 0.8193 - val_loss: 0.4601 - val_accuracy: 0.8101 - 16s/epoch - 150ms/step\n",
      "Epoch 23/40\n",
      "104/104 - 15s - loss: 0.4313 - accuracy: 0.8157 - val_loss: 0.4748 - val_accuracy: 0.8060 - 15s/epoch - 148ms/step\n",
      "Epoch 24/40\n",
      "104/104 - 15s - loss: 0.4199 - accuracy: 0.8259 - val_loss: 0.4665 - val_accuracy: 0.8156 - 15s/epoch - 149ms/step\n",
      "Epoch 25/40\n",
      "104/104 - 15s - loss: 0.4130 - accuracy: 0.8297 - val_loss: 0.4578 - val_accuracy: 0.8115 - 15s/epoch - 148ms/step\n",
      "Epoch 26/40\n",
      "104/104 - 15s - loss: 0.4199 - accuracy: 0.8230 - val_loss: 0.4602 - val_accuracy: 0.8128 - 15s/epoch - 146ms/step\n",
      "Epoch 27/40\n",
      "104/104 - 15s - loss: 0.4026 - accuracy: 0.8343 - val_loss: 0.4603 - val_accuracy: 0.8251 - 15s/epoch - 148ms/step\n",
      "Epoch 28/40\n",
      "104/104 - 15s - loss: 0.3998 - accuracy: 0.8367 - val_loss: 0.4660 - val_accuracy: 0.8156 - 15s/epoch - 148ms/step\n",
      "Epoch 29/40\n",
      "104/104 - 15s - loss: 0.3993 - accuracy: 0.8355 - val_loss: 0.4561 - val_accuracy: 0.8101 - 15s/epoch - 148ms/step\n",
      "Epoch 30/40\n",
      "104/104 - 15s - loss: 0.3860 - accuracy: 0.8444 - val_loss: 0.4551 - val_accuracy: 0.8046 - 15s/epoch - 148ms/step\n",
      "Epoch 31/40\n",
      "104/104 - 15s - loss: 0.3764 - accuracy: 0.8519 - val_loss: 0.4554 - val_accuracy: 0.8142 - 15s/epoch - 147ms/step\n",
      "Epoch 32/40\n",
      "104/104 - 15s - loss: 0.3807 - accuracy: 0.8439 - val_loss: 0.4482 - val_accuracy: 0.8197 - 15s/epoch - 148ms/step\n",
      "Epoch 33/40\n",
      "104/104 - 15s - loss: 0.3906 - accuracy: 0.8314 - val_loss: 0.4524 - val_accuracy: 0.8238 - 15s/epoch - 147ms/step\n",
      "Epoch 34/40\n",
      "104/104 - 15s - loss: 0.3695 - accuracy: 0.8543 - val_loss: 0.4580 - val_accuracy: 0.8183 - 15s/epoch - 148ms/step\n",
      "Epoch 35/40\n",
      "104/104 - 15s - loss: 0.3599 - accuracy: 0.8541 - val_loss: 0.4629 - val_accuracy: 0.8128 - 15s/epoch - 148ms/step\n",
      "Epoch 36/40\n",
      "104/104 - 15s - loss: 0.3634 - accuracy: 0.8541 - val_loss: 0.4586 - val_accuracy: 0.8183 - 15s/epoch - 148ms/step\n",
      "Epoch 37/40\n",
      "104/104 - 15s - loss: 0.3527 - accuracy: 0.8529 - val_loss: 0.4516 - val_accuracy: 0.8142 - 15s/epoch - 147ms/step\n",
      "Epoch 38/40\n",
      "104/104 - 15s - loss: 0.3535 - accuracy: 0.8548 - val_loss: 0.4430 - val_accuracy: 0.8142 - 15s/epoch - 148ms/step\n",
      "Epoch 39/40\n",
      "104/104 - 15s - loss: 0.3589 - accuracy: 0.8575 - val_loss: 0.4557 - val_accuracy: 0.8156 - 15s/epoch - 148ms/step\n",
      "Epoch 40/40\n",
      "104/104 - 15s - loss: 0.3305 - accuracy: 0.8666 - val_loss: 0.4471 - val_accuracy: 0.8210 - 15s/epoch - 147ms/step\n",
      "27/27 [==============================] - 1s 23ms/step\n",
      "              precision    recall  f1-score   support\n",
      "\n",
      "      CD-Box     0.8700    0.9094    0.8893       287\n",
      "    HACA-Box     0.7684    0.7631    0.7657       287\n",
      "      scaRNA     0.7681    0.7387    0.7531       287\n",
      "\n",
      "    accuracy                         0.8037       861\n",
      "   macro avg     0.8022    0.8037    0.8027       861\n",
      "weighted avg     0.8022    0.8037    0.8027       861\n",
      "\n"
     ]
    }
   ],
   "source": [
    "from sklearn.metrics import classification_report\n",
    "from sklearn.metrics import f1_score\n",
    "from sklearn.metrics import recall_score\n",
    "from sklearn.metrics import precision_score\n",
    "\n",
    "callback = keras.callbacks.EarlyStopping(monitor='val_loss', patience=10, restore_best_weights=True)\n",
    "\n",
    "# Create and fit the model to the train data\n",
    "model = create_cnn_model_struct(input_dim_2=4)  # Set the input dim to the length of our OneHotEncoded vectors\n",
    "model.fit(X_train_db_array, Y_train_ohe, epochs=40, batch_size=40, verbose=2, validation_split=0.15, callbacks = [callback])\n",
    "\n",
    "# Predict the test data and transform the prediction to labels\n",
    "pred = model.predict(X_test_db_array)\n",
    "pred_labels_db = ohe.inverse_transform(pred)\n",
    "\n",
    "# Save scores for plotting\n",
    "f1_db = f1_score(Y_test, pred_labels_db, average=\"weighted\")\n",
    "prec_db = precision_score(Y_test, pred_labels_db, average=\"weighted\")\n",
    "rec_db = recall_score(Y_test, pred_labels_db, average=\"weighted\")\n",
    "\n",
    "# Print classification report\n",
    "print(classification_report(Y_test, pred_labels_db, digits=4))"
   ]
  },
  {
   "cell_type": "markdown",
   "metadata": {},
   "source": [
    "Let's free up some space."
   ]
  },
  {
   "cell_type": "code",
   "execution_count": 11,
   "metadata": {},
   "outputs": [
    {
     "data": {
      "text/plain": [
       "2304"
      ]
     },
     "execution_count": 11,
     "metadata": {},
     "output_type": "execute_result"
    }
   ],
   "source": [
    "import gc\n",
    "\n",
    "del X_train_db_array, X_test_db_array\n",
    "\n",
    "gc.collect()"
   ]
  },
  {
   "cell_type": "markdown",
   "metadata": {},
   "source": [
    "Next we want to train on the structure string and compare it to the results from the dot-bracket string.\n",
    "\n",
    "The steps will be the same, padding, ordinal encoding, one-hot encoding, train/test splitting and transforming into an array. "
   ]
  },
  {
   "cell_type": "code",
   "execution_count": 12,
   "metadata": {},
   "outputs": [],
   "source": [
    "struct_df[\"struct_pad\"] = struct_df.structure.str.rjust(600, \"_\")\n",
    "struct_df[\"struct_pad_ord\"] = struct_df.struct_pad.map(lambda x: [ord(c) for c in x])\n",
    "\n",
    "ohe_seq_2 = OneHotEncoder(sparse=False, handle_unknown=\"ignore\")\n",
    "ohe_seq_2.fit(np.array(struct_df.struct_pad_ord[0]).reshape(-1, 1))\n",
    "struct_df[\"struct_ohe\"] = struct_df.struct_pad_ord.map(lambda x: ohe_seq_2.transform(np.array(x).reshape(-1,1)))\n",
    "\n",
    "X_train, X_test, Y_train, Y_test = train_test_split(struct_df[[\"struct_ohe\"]], struct_df[\"type\"], test_size=0.15, random_state=random, stratify=struct_df[\"type\"])\n",
    "X_train_struct_array = np.array(X_train.struct_ohe.to_list()).reshape(len(X_train), 600, 6)\n",
    "X_test_struct_array = np.array(X_test.struct_ohe.to_list()).reshape(len(X_test), 600, 6)"
   ]
  },
  {
   "cell_type": "markdown",
   "metadata": {},
   "source": [
    "**What is the better approach to solve our problem?**"
   ]
  },
  {
   "cell_type": "code",
   "execution_count": 13,
   "metadata": {
    "tags": []
   },
   "outputs": [
    {
     "name": "stdout",
     "output_type": "stream",
     "text": [
      "Epoch 1/50\n",
      "104/104 - 16s - loss: 0.8125 - accuracy: 0.6254 - val_loss: 0.6828 - val_accuracy: 0.7363 - 16s/epoch - 157ms/step\n",
      "Epoch 2/50\n",
      "104/104 - 16s - loss: 0.6605 - accuracy: 0.7096 - val_loss: 0.6012 - val_accuracy: 0.7582 - 16s/epoch - 151ms/step\n",
      "Epoch 3/50\n",
      "104/104 - 16s - loss: 0.6122 - accuracy: 0.7306 - val_loss: 0.5630 - val_accuracy: 0.7705 - 16s/epoch - 153ms/step\n",
      "Epoch 4/50\n",
      "104/104 - 16s - loss: 0.5870 - accuracy: 0.7501 - val_loss: 0.5520 - val_accuracy: 0.7705 - 16s/epoch - 152ms/step\n",
      "Epoch 5/50\n",
      "104/104 - 16s - loss: 0.5691 - accuracy: 0.7542 - val_loss: 0.5322 - val_accuracy: 0.7801 - 16s/epoch - 154ms/step\n",
      "Epoch 6/50\n",
      "104/104 - 16s - loss: 0.5469 - accuracy: 0.7687 - val_loss: 0.5236 - val_accuracy: 0.8005 - 16s/epoch - 152ms/step\n",
      "Epoch 7/50\n",
      "104/104 - 16s - loss: 0.5337 - accuracy: 0.7619 - val_loss: 0.5118 - val_accuracy: 0.7910 - 16s/epoch - 152ms/step\n",
      "Epoch 8/50\n",
      "104/104 - 16s - loss: 0.5154 - accuracy: 0.7849 - val_loss: 0.4987 - val_accuracy: 0.7883 - 16s/epoch - 152ms/step\n",
      "Epoch 9/50\n",
      "104/104 - 16s - loss: 0.5099 - accuracy: 0.7812 - val_loss: 0.5030 - val_accuracy: 0.7923 - 16s/epoch - 153ms/step\n",
      "Epoch 10/50\n",
      "104/104 - 16s - loss: 0.5059 - accuracy: 0.7851 - val_loss: 0.4981 - val_accuracy: 0.7923 - 16s/epoch - 152ms/step\n",
      "Epoch 11/50\n",
      "104/104 - 16s - loss: 0.4923 - accuracy: 0.7962 - val_loss: 0.4821 - val_accuracy: 0.7978 - 16s/epoch - 154ms/step\n",
      "Epoch 12/50\n",
      "104/104 - 16s - loss: 0.4841 - accuracy: 0.8008 - val_loss: 0.4775 - val_accuracy: 0.8087 - 16s/epoch - 151ms/step\n",
      "Epoch 13/50\n",
      "104/104 - 16s - loss: 0.4640 - accuracy: 0.8087 - val_loss: 0.4711 - val_accuracy: 0.8142 - 16s/epoch - 151ms/step\n",
      "Epoch 14/50\n",
      "104/104 - 16s - loss: 0.4586 - accuracy: 0.8080 - val_loss: 0.4673 - val_accuracy: 0.8169 - 16s/epoch - 152ms/step\n",
      "Epoch 15/50\n",
      "104/104 - 16s - loss: 0.4579 - accuracy: 0.8068 - val_loss: 0.4676 - val_accuracy: 0.8101 - 16s/epoch - 152ms/step\n",
      "Epoch 16/50\n",
      "104/104 - 16s - loss: 0.4457 - accuracy: 0.8152 - val_loss: 0.4572 - val_accuracy: 0.8224 - 16s/epoch - 150ms/step\n",
      "Epoch 17/50\n",
      "104/104 - 16s - loss: 0.4452 - accuracy: 0.8191 - val_loss: 0.4596 - val_accuracy: 0.8142 - 16s/epoch - 153ms/step\n",
      "Epoch 18/50\n",
      "104/104 - 16s - loss: 0.4382 - accuracy: 0.8172 - val_loss: 0.4693 - val_accuracy: 0.8019 - 16s/epoch - 152ms/step\n",
      "Epoch 19/50\n",
      "104/104 - 16s - loss: 0.4312 - accuracy: 0.8196 - val_loss: 0.4556 - val_accuracy: 0.8183 - 16s/epoch - 151ms/step\n",
      "Epoch 20/50\n",
      "104/104 - 16s - loss: 0.4246 - accuracy: 0.8263 - val_loss: 0.4578 - val_accuracy: 0.8169 - 16s/epoch - 152ms/step\n",
      "Epoch 21/50\n",
      "104/104 - 16s - loss: 0.4233 - accuracy: 0.8256 - val_loss: 0.4561 - val_accuracy: 0.8128 - 16s/epoch - 153ms/step\n",
      "Epoch 22/50\n",
      "104/104 - 16s - loss: 0.4115 - accuracy: 0.8350 - val_loss: 0.4486 - val_accuracy: 0.8238 - 16s/epoch - 152ms/step\n",
      "Epoch 23/50\n",
      "104/104 - 16s - loss: 0.3969 - accuracy: 0.8372 - val_loss: 0.4532 - val_accuracy: 0.8197 - 16s/epoch - 152ms/step\n",
      "Epoch 24/50\n",
      "104/104 - 16s - loss: 0.3866 - accuracy: 0.8435 - val_loss: 0.4603 - val_accuracy: 0.8169 - 16s/epoch - 153ms/step\n",
      "Epoch 25/50\n",
      "104/104 - 16s - loss: 0.3874 - accuracy: 0.8435 - val_loss: 0.4397 - val_accuracy: 0.8251 - 16s/epoch - 153ms/step\n",
      "Epoch 26/50\n",
      "104/104 - 16s - loss: 0.3759 - accuracy: 0.8418 - val_loss: 0.4405 - val_accuracy: 0.8251 - 16s/epoch - 152ms/step\n",
      "Epoch 27/50\n",
      "104/104 - 16s - loss: 0.3731 - accuracy: 0.8521 - val_loss: 0.4392 - val_accuracy: 0.8279 - 16s/epoch - 153ms/step\n",
      "Epoch 28/50\n",
      "104/104 - 16s - loss: 0.3758 - accuracy: 0.8483 - val_loss: 0.4501 - val_accuracy: 0.8210 - 16s/epoch - 153ms/step\n",
      "Epoch 29/50\n",
      "104/104 - 16s - loss: 0.3636 - accuracy: 0.8495 - val_loss: 0.4365 - val_accuracy: 0.8306 - 16s/epoch - 153ms/step\n",
      "Epoch 30/50\n",
      "104/104 - 16s - loss: 0.3592 - accuracy: 0.8502 - val_loss: 0.4417 - val_accuracy: 0.8292 - 16s/epoch - 152ms/step\n",
      "Epoch 31/50\n",
      "104/104 - 16s - loss: 0.3665 - accuracy: 0.8473 - val_loss: 0.4448 - val_accuracy: 0.8265 - 16s/epoch - 151ms/step\n",
      "Epoch 32/50\n",
      "104/104 - 16s - loss: 0.3438 - accuracy: 0.8584 - val_loss: 0.4459 - val_accuracy: 0.8142 - 16s/epoch - 152ms/step\n",
      "Epoch 33/50\n",
      "104/104 - 16s - loss: 0.3471 - accuracy: 0.8555 - val_loss: 0.4404 - val_accuracy: 0.8265 - 16s/epoch - 152ms/step\n",
      "Epoch 34/50\n",
      "104/104 - 16s - loss: 0.3311 - accuracy: 0.8666 - val_loss: 0.4430 - val_accuracy: 0.8333 - 16s/epoch - 150ms/step\n",
      "Epoch 35/50\n",
      "104/104 - 16s - loss: 0.3325 - accuracy: 0.8700 - val_loss: 0.4422 - val_accuracy: 0.8320 - 16s/epoch - 150ms/step\n",
      "Epoch 36/50\n",
      "104/104 - 16s - loss: 0.3224 - accuracy: 0.8707 - val_loss: 0.4277 - val_accuracy: 0.8374 - 16s/epoch - 153ms/step\n",
      "Epoch 37/50\n",
      "104/104 - 16s - loss: 0.3231 - accuracy: 0.8681 - val_loss: 0.4334 - val_accuracy: 0.8320 - 16s/epoch - 151ms/step\n",
      "Epoch 38/50\n",
      "104/104 - 16s - loss: 0.3172 - accuracy: 0.8765 - val_loss: 0.4359 - val_accuracy: 0.8333 - 16s/epoch - 153ms/step\n",
      "Epoch 39/50\n",
      "104/104 - 16s - loss: 0.3264 - accuracy: 0.8632 - val_loss: 0.4460 - val_accuracy: 0.8320 - 16s/epoch - 151ms/step\n",
      "Epoch 40/50\n",
      "104/104 - 16s - loss: 0.3110 - accuracy: 0.8767 - val_loss: 0.4460 - val_accuracy: 0.8388 - 16s/epoch - 153ms/step\n",
      "Epoch 41/50\n",
      "104/104 - 16s - loss: 0.3147 - accuracy: 0.8705 - val_loss: 0.4320 - val_accuracy: 0.8374 - 16s/epoch - 153ms/step\n",
      "Epoch 42/50\n",
      "104/104 - 16s - loss: 0.3029 - accuracy: 0.8775 - val_loss: 0.4491 - val_accuracy: 0.8279 - 16s/epoch - 151ms/step\n",
      "Epoch 43/50\n",
      "104/104 - 16s - loss: 0.2993 - accuracy: 0.8842 - val_loss: 0.4366 - val_accuracy: 0.8333 - 16s/epoch - 150ms/step\n",
      "Epoch 44/50\n",
      "104/104 - 16s - loss: 0.3030 - accuracy: 0.8775 - val_loss: 0.4377 - val_accuracy: 0.8292 - 16s/epoch - 151ms/step\n",
      "Epoch 45/50\n",
      "104/104 - 16s - loss: 0.2956 - accuracy: 0.8821 - val_loss: 0.4351 - val_accuracy: 0.8347 - 16s/epoch - 151ms/step\n",
      "Epoch 46/50\n",
      "104/104 - 16s - loss: 0.3061 - accuracy: 0.8770 - val_loss: 0.4327 - val_accuracy: 0.8388 - 16s/epoch - 152ms/step\n",
      "27/27 [==============================] - 1s 23ms/step\n",
      "              precision    recall  f1-score   support\n",
      "\n",
      "      CD-Box       0.89      0.91      0.90       287\n",
      "    HACA-Box       0.75      0.73      0.74       287\n",
      "      scaRNA       0.73      0.73      0.73       287\n",
      "\n",
      "    accuracy                           0.79       861\n",
      "   macro avg       0.79      0.79      0.79       861\n",
      "weighted avg       0.79      0.79      0.79       861\n",
      "\n"
     ]
    }
   ],
   "source": [
    "callback = keras.callbacks.EarlyStopping(monitor='val_loss', patience=10, restore_best_weights=True)\n",
    "\n",
    "# Create and fit the model to the train data\n",
    "model = create_cnn_model_struct(input_dim_2=6)\n",
    "model.fit(X_train_struct_array, Y_train_ohe, epochs=50, batch_size=40, verbose=2, validation_split=0.15, callbacks = [callback])\n",
    "\n",
    "# Predict the test set then turn the prediction into labels\n",
    "pred = model.predict(X_test_struct_array)\n",
    "pred_labels_structure = ohe.inverse_transform(pred)\n",
    "\n",
    "# Save scores for plotting\n",
    "f1_structure = f1_score(Y_test, pred_labels_structure, average=\"weighted\")\n",
    "prec_structure = precision_score(Y_test, pred_labels_structure, average=\"weighted\")\n",
    "rec_structure = recall_score(Y_test, pred_labels_structure, average=\"weighted\")\n",
    "\n",
    "# Print classification report\n",
    "print(classification_report(Y_test, pred_labels_structure, digits=2))"
   ]
  },
  {
   "cell_type": "markdown",
   "metadata": {},
   "source": [
    "# Integrating the nucleotide sequence to the structural information\n",
    "\n",
    "In Multi-Omics analysis there is a concept of so called [data integration](https://www.researchgate.net/publication/358074725_Machine_learning_for_multi-omics_data_integration_in_cancer) to combine several  molecular levels (e.g. Transcriptomics, Proteomics) to train a ML classifier to detect pattern over several molecular layers. Obviously, we are not dealing with Omics datasets in this example but still the concept of data integration can be transfered to our biological problem. \n",
    "\n",
    "We would like to integrate different input levels (sequence and strcuture) into one model. This can be approached by \"early\" or \"late\" integration.\n",
    "\n",
    "Early Integration refers to the practice of combining several layer of inputs already in the beginning in our case before adding it to the model. \n",
    "\n",
    "We do that by creating an arbitrary encoding of the nucleotide sequence combined with the structural sequence information. Therefore we need to create a function that encodes the sequence the following way: Every combination of nucleotide (A, C, G, T) and structure (F, S, I, M, H, T) is encoded as its own letter. If there are any other letters we encode the combination as \"N\".\n",
    "\n",
    "||F|S|I|M|H|T|\n",
    "|---|---|---|---|---|---|---|\n",
    "|**A**|Q|W|E|R|T|Z|\n",
    "|**C**|U|I|O|P|A|S|\n",
    "|**G**|D|F|G|H|J|K|\n",
    "|**T**|L|Y|X|C|V|B|\n",
    "|**other**|N|N|N|N|N|N|"
   ]
  },
  {
   "cell_type": "code",
   "execution_count": 14,
   "metadata": {},
   "outputs": [],
   "source": [
    "def struct_annotator(sequence, structure):\n",
    "    if (len(sequence) != len(structure)):\n",
    "        print(\"Sequence and structure not of equal length\")\n",
    "    else:\n",
    "        # Create empty string that we can append the encoding to for each sequence\n",
    "        annotated_struct = \"\"\n",
    "        \n",
    "        #Assignment of letters for combinations\n",
    "        dic = {\"A\": [\"Q\", \"W\", \"E\", \"R\", \"T\", \"Z\"],\n",
    "               \"C\": [\"U\", \"I\", \"O\", \"P\", \"A\", \"S\"],\n",
    "               \"G\": [\"D\", \"F\", \"G\", \"H\", \"J\", \"K\"],\n",
    "               \"T\": [\"L\", \"Y\", \"X\", \"C\", \"V\", \"B\"],\n",
    "               \"other\": [\"N\", \"N\", \"N\", \"N\", \"N\", \"N\"]}\n",
    "        # Save into a df, such that we can access nucleotide by column and structure by index\n",
    "        df = pd.DataFrame(dic, index = [\"F\", \"S\", \"I\", \"M\", \"H\", \"T\"])\n",
    "        \n",
    "        for i in range(0, len(sequence)):\n",
    "            \n",
    "            # Annotate according to the nucleotide\n",
    "            if (sequence[i] in [\"A\", \"C\", \"G\", \"T\"]):\n",
    "                # Append the structure with the correct letter\n",
    "                annotated_struct = annotated_struct + df[sequence[i]][structure[i]]\n",
    "                \n",
    "            # Annotate if unknown IUPAC ambiguity code is found\n",
    "            else:\n",
    "                annotated_struct = annotated_struct + df[\"other\"][structure[i]]\n",
    "    return(annotated_struct)"
   ]
  },
  {
   "cell_type": "markdown",
   "metadata": {},
   "source": [
    "Let's apply our function to every sequence in our dataframe"
   ]
  },
  {
   "cell_type": "code",
   "execution_count": 15,
   "metadata": {},
   "outputs": [],
   "source": [
    "# Create new column for our sequence/structure mix\n",
    "struct_df[\"seq_struct\"] = \"\"\n",
    "\n",
    "# Fill column with our function\n",
    "for i in range(len(struct_df)):\n",
    "    struct_df[\"seq_struct\"][i] = struct_annotator(struct_df[\"sequence\"][i], struct_df[\"structure\"][i])"
   ]
  },
  {
   "cell_type": "markdown",
   "metadata": {},
   "source": [
    "Now the same preprocessing steps from before"
   ]
  },
  {
   "cell_type": "code",
   "execution_count": 16,
   "metadata": {},
   "outputs": [],
   "source": [
    "struct_df[\"seq_struct_pad\"] = struct_df[\"seq_struct\"].str.rjust(600, \"_\")  # Padding\n",
    "struct_df[\"seq_struct_pad_ord\"] = struct_df[\"seq_struct_pad\"].map(lambda x: [ord(c) for c in x])  # Ordinal Encoding\n",
    "\n",
    "ohe_seq_3 = OneHotEncoder(sparse=False, handle_unknown=\"ignore\")  # Creating a new One-Hot Encoder\n",
    "ohe_seq_3.fit(np.array(struct_df[\"seq_struct_pad_ord\"][0]).reshape(-1, 1))  # Fit the OHE to the new input\n",
    "struct_df[\"seq_struct_ohe\"] = struct_df[\"seq_struct_pad_ord\"].map(lambda x: ohe_seq_3.transform(np.array(x).reshape(-1,1)))  # Transform to the one-hot encoded input\n",
    "\n",
    "# Split into train and test\n",
    "X_train, X_test, Y_train, Y_test = train_test_split(struct_df[[\"seq_struct_ohe\"]], struct_df[\"type\"], test_size=0.15, random_state=random, stratify=struct_df[\"type\"])\n",
    "\n",
    "# Transform input into arrays\n",
    "X_train_seq_struct_array = np.array(X_train[\"seq_struct_ohe\"].to_list()).reshape(len(X_train), 600, 19)  # Turn into an array\n",
    "X_test_seq_struct_array = np.array(X_test[\"seq_struct_ohe\"].to_list()).reshape(len(X_test), 600, 19)  # Turn into an array"
   ]
  },
  {
   "cell_type": "markdown",
   "metadata": {},
   "source": [
    "Let's run our early integration model"
   ]
  },
  {
   "cell_type": "code",
   "execution_count": 17,
   "metadata": {},
   "outputs": [
    {
     "name": "stdout",
     "output_type": "stream",
     "text": [
      "Epoch 1/150\n",
      "104/104 - 20s - loss: 0.7798 - accuracy: 0.6474 - val_loss: 0.6013 - val_accuracy: 0.8115 - 20s/epoch - 194ms/step\n",
      "Epoch 2/150\n",
      "104/104 - 20s - loss: 0.5387 - accuracy: 0.7998 - val_loss: 0.4537 - val_accuracy: 0.8648 - 20s/epoch - 192ms/step\n",
      "Epoch 3/150\n",
      "104/104 - 20s - loss: 0.4299 - accuracy: 0.8418 - val_loss: 0.3724 - val_accuracy: 0.8839 - 20s/epoch - 196ms/step\n",
      "Epoch 4/150\n",
      "104/104 - 20s - loss: 0.3797 - accuracy: 0.8620 - val_loss: 0.3120 - val_accuracy: 0.8948 - 20s/epoch - 194ms/step\n",
      "Epoch 5/150\n",
      "104/104 - 20s - loss: 0.3199 - accuracy: 0.8799 - val_loss: 0.2836 - val_accuracy: 0.9030 - 20s/epoch - 194ms/step\n",
      "Epoch 6/150\n",
      "104/104 - 20s - loss: 0.2836 - accuracy: 0.9004 - val_loss: 0.2517 - val_accuracy: 0.9112 - 20s/epoch - 196ms/step\n",
      "Epoch 7/150\n",
      "104/104 - 20s - loss: 0.2414 - accuracy: 0.9170 - val_loss: 0.2364 - val_accuracy: 0.9235 - 20s/epoch - 195ms/step\n",
      "Epoch 8/150\n",
      "104/104 - 20s - loss: 0.2259 - accuracy: 0.9199 - val_loss: 0.2333 - val_accuracy: 0.9139 - 20s/epoch - 196ms/step\n",
      "Epoch 9/150\n",
      "104/104 - 20s - loss: 0.1964 - accuracy: 0.9291 - val_loss: 0.2213 - val_accuracy: 0.9276 - 20s/epoch - 196ms/step\n",
      "Epoch 10/150\n",
      "104/104 - 20s - loss: 0.1808 - accuracy: 0.9373 - val_loss: 0.2115 - val_accuracy: 0.9317 - 20s/epoch - 195ms/step\n",
      "Epoch 11/150\n",
      "104/104 - 20s - loss: 0.1672 - accuracy: 0.9414 - val_loss: 0.2054 - val_accuracy: 0.9331 - 20s/epoch - 194ms/step\n",
      "Epoch 12/150\n",
      "104/104 - 20s - loss: 0.1465 - accuracy: 0.9498 - val_loss: 0.2035 - val_accuracy: 0.9358 - 20s/epoch - 192ms/step\n",
      "Epoch 13/150\n",
      "104/104 - 20s - loss: 0.1276 - accuracy: 0.9551 - val_loss: 0.1888 - val_accuracy: 0.9399 - 20s/epoch - 192ms/step\n",
      "Epoch 14/150\n",
      "104/104 - 20s - loss: 0.1181 - accuracy: 0.9612 - val_loss: 0.1946 - val_accuracy: 0.9413 - 20s/epoch - 193ms/step\n",
      "Epoch 15/150\n",
      "104/104 - 20s - loss: 0.1075 - accuracy: 0.9624 - val_loss: 0.1945 - val_accuracy: 0.9385 - 20s/epoch - 194ms/step\n",
      "Epoch 16/150\n",
      "104/104 - 20s - loss: 0.0918 - accuracy: 0.9672 - val_loss: 0.1889 - val_accuracy: 0.9399 - 20s/epoch - 191ms/step\n",
      "Epoch 17/150\n",
      "104/104 - 20s - loss: 0.0877 - accuracy: 0.9701 - val_loss: 0.1890 - val_accuracy: 0.9385 - 20s/epoch - 195ms/step\n",
      "Epoch 18/150\n",
      "104/104 - 20s - loss: 0.0779 - accuracy: 0.9744 - val_loss: 0.2097 - val_accuracy: 0.9385 - 20s/epoch - 194ms/step\n",
      "Epoch 19/150\n",
      "104/104 - 20s - loss: 0.0656 - accuracy: 0.9788 - val_loss: 0.2157 - val_accuracy: 0.9290 - 20s/epoch - 195ms/step\n",
      "Epoch 20/150\n",
      "104/104 - 20s - loss: 0.0644 - accuracy: 0.9800 - val_loss: 0.2104 - val_accuracy: 0.9413 - 20s/epoch - 193ms/step\n",
      "Epoch 21/150\n",
      "104/104 - 20s - loss: 0.0641 - accuracy: 0.9788 - val_loss: 0.2098 - val_accuracy: 0.9372 - 20s/epoch - 192ms/step\n",
      "Epoch 22/150\n",
      "104/104 - 20s - loss: 0.0617 - accuracy: 0.9793 - val_loss: 0.2068 - val_accuracy: 0.9426 - 20s/epoch - 193ms/step\n",
      "Epoch 23/150\n",
      "104/104 - 20s - loss: 0.0577 - accuracy: 0.9817 - val_loss: 0.1908 - val_accuracy: 0.9440 - 20s/epoch - 196ms/step\n",
      "27/27 [==============================] - 1s 31ms/step\n",
      "              precision    recall  f1-score   support\n",
      "\n",
      "      CD-Box       0.95      0.96      0.95       287\n",
      "    HACA-Box       0.91      0.92      0.92       287\n",
      "      scaRNA       0.93      0.91      0.92       287\n",
      "\n",
      "    accuracy                           0.93       861\n",
      "   macro avg       0.93      0.93      0.93       861\n",
      "weighted avg       0.93      0.93      0.93       861\n",
      "\n"
     ]
    }
   ],
   "source": [
    "callback = keras.callbacks.EarlyStopping(monitor='val_loss', patience=10, restore_best_weights=True)\n",
    "\n",
    "# Create and fit the model\n",
    "model = create_cnn_model_struct(input_dim_2=19)\n",
    "model.fit(X_train_seq_struct_array, Y_train_ohe, epochs=150, batch_size=40, verbose=2, validation_split=0.15, callbacks=[callback])\n",
    "\n",
    "# Predict test set, then transform back into labels\n",
    "pred = model.predict(X_test_seq_struct_array)\n",
    "pred_labels_early_int = ohe.inverse_transform(pred)\n",
    "\n",
    "# Save the scores for later visualization\n",
    "f1_early_int = f1_score(Y_test, pred_labels_early_int, average=\"weighted\")\n",
    "prec_early_int = precision_score(Y_test, pred_labels_early_int, average=\"weighted\")\n",
    "rec_early_int = recall_score(Y_test, pred_labels_early_int, average=\"weighted\")\n",
    "\n",
    "# Print Classification Report\n",
    "print(classification_report(Y_test, pred_labels_early_int, digits=2))"
   ]
  },
  {
   "cell_type": "code",
   "execution_count": 18,
   "metadata": {},
   "outputs": [
    {
     "data": {
      "text/plain": [
       "7277"
      ]
     },
     "execution_count": 18,
     "metadata": {},
     "output_type": "execute_result"
    }
   ],
   "source": [
    "del X_train_seq_struct_array, X_test_seq_struct_array\n",
    "\n",
    "gc.collect()"
   ]
  },
  {
   "cell_type": "markdown",
   "metadata": {},
   "source": [
    "The Late Integration is in practice the training and optimization of several models in parallel and combining the outputs of both in one layer before the final prediction. In our case the models are  concatenated at the \"head\" (before the output) and create some kind of consens prediction. The advantage is to not create a specific encoding as each input sample consists of one nucleotide sequence and one structure sequence. \n",
    "\n",
    "Within the same function, we will create two times the same models, just varying the input to be structural (annotated structure sequence) or sequence (nucleotides). Each model will have a dense ReLU layer with 10 nodes instead of the original output layer. The last layer of each model will be concatenated using keras [Concatenate](https://keras.io/api/layers/merging_layers/concatenate/) layer. After the concatenation we add the output (but it could make sense to add more dense layers to learn from the combination of the single outputs). \n",
    "\n",
    "Note, that this model has roughly twice as many parameters than the Early Integration model, so training might take longer and results will probably be different."
   ]
  },
  {
   "cell_type": "code",
   "execution_count": 19,
   "metadata": {},
   "outputs": [],
   "source": [
    "def create_model_late_integration():\n",
    "    \n",
    "    #Sequence Model\n",
    "    seq_model = keras.Sequential()\n",
    "\n",
    "    seq_model.add(keras.layers.Conv1D(128, 11, activation='relu', padding='same', input_shape=(600, 5)))\n",
    "    seq_model.add(keras.layers.MaxPooling1D(4))\n",
    "    seq_model.add(keras.layers.Dropout(rate = 0.5))\n",
    "\n",
    "    seq_model.add(keras.layers.Conv1D(64, 7, activation='relu', padding='same'))\n",
    "    seq_model.add(keras.layers.MaxPooling1D(4))\n",
    "    seq_model.add(keras.layers.Dropout(rate = 0.5))\n",
    "\n",
    "    seq_model.add(keras.layers.Flatten())\n",
    "    seq_model.add(keras.layers.Dense(10, activation='relu'))\n",
    "    \n",
    "    #Structure Model\n",
    "    struct_model = keras.Sequential()\n",
    "\n",
    "    struct_model.add(keras.layers.Conv1D(128, 11, activation='relu', padding='same', input_shape=(600, 6)))\n",
    "    struct_model.add(keras.layers.MaxPooling1D(4))\n",
    "    struct_model.add(keras.layers.Dropout(rate = 0.5))\n",
    "\n",
    "    struct_model.add(keras.layers.Conv1D(64, 7, activation='relu', padding='same'))\n",
    "    struct_model.add(keras.layers.MaxPooling1D(4))\n",
    "    struct_model.add(keras.layers.Dropout(rate = 0.5))\n",
    "\n",
    "    struct_model.add(keras.layers.Flatten())\n",
    "    struct_model.add(keras.layers.Dense(10, activation='relu'))\n",
    "    \n",
    "    #Merging the models\n",
    "    concatenated = keras.layers.Concatenate()([seq_model.output, struct_model.output])\n",
    "    concatenated = keras.layers.Dense(3, activation = \"softmax\", name = \"output_layer\")(concatenated)\n",
    "    final_model = keras.Model([seq_model.input, struct_model.input], concatenated)\n",
    "    \n",
    "    Adam = keras.optimizers.Adam(learning_rate=0.001)\n",
    "    final_model.compile(optimizer=Adam, loss='categorical_crossentropy', metrics=['accuracy'])\n",
    "    \n",
    "    del struct_model, seq_model\n",
    "    return(final_model)\n"
   ]
  },
  {
   "cell_type": "markdown",
   "metadata": {},
   "source": [
    "We have first to create again the sequence information for the input from Notebook 2."
   ]
  },
  {
   "cell_type": "code",
   "execution_count": 20,
   "metadata": {},
   "outputs": [],
   "source": [
    "# Padding and ordinal encoding\n",
    "struct_df[\"seq_pad\"] = struct_df[\"sequence\"].str.rjust(600, \"_\")\n",
    "struct_df[\"seq_pad_ord\"] = struct_df[\"seq_pad\"].map(lambda x: [ord(c) for c in x])\n",
    "\n",
    "# one-hot encoding\n",
    "ohe_seq_4 = OneHotEncoder(sparse=False, handle_unknown=\"ignore\")\n",
    "ohe_seq_4.fit(np.array(struct_df[\"seq_pad_ord\"][0]).reshape(-1, 1))\n",
    "struct_df[\"seq_ohe\"] = struct_df[\"seq_pad_ord\"].map(lambda x: ohe_seq_4.transform(np.array(x).reshape(-1,1)))\n",
    "\n",
    "# Create train test split\n",
    "X_train, X_test, Y_train, Y_test = train_test_split(struct_df[[\"seq_ohe\"]], struct_df[\"type\"], test_size=0.15, random_state=random, stratify=struct_df[\"type\"])\n",
    "\n",
    "# Transform into arrays\n",
    "X_train_seq_array = np.array(X_train[\"seq_ohe\"].to_list()).reshape(len(X_train), 600, 5)\n",
    "X_test_seq_array = np.array(X_test[\"seq_ohe\"].to_list()).reshape(len(X_test), 600, 5)"
   ]
  },
  {
   "cell_type": "markdown",
   "metadata": {},
   "source": [
    "Now we are ready to train. Since we have the two different inputs, we enter the training and test data in a list: `[X_train_seq_array, X_train_struct_array]`"
   ]
  },
  {
   "cell_type": "code",
   "execution_count": 21,
   "metadata": {},
   "outputs": [
    {
     "name": "stdout",
     "output_type": "stream",
     "text": [
      "Epoch 1/150\n",
      "104/104 - 33s - loss: 0.7621 - accuracy: 0.6667 - val_loss: 0.5972 - val_accuracy: 0.8306 - 33s/epoch - 315ms/step\n",
      "Epoch 2/150\n",
      "104/104 - 32s - loss: 0.5142 - accuracy: 0.7998 - val_loss: 0.4147 - val_accuracy: 0.8730 - 32s/epoch - 310ms/step\n",
      "Epoch 3/150\n",
      "104/104 - 33s - loss: 0.3914 - accuracy: 0.8529 - val_loss: 0.3271 - val_accuracy: 0.8921 - 33s/epoch - 313ms/step\n",
      "Epoch 4/150\n",
      "104/104 - 32s - loss: 0.3433 - accuracy: 0.8710 - val_loss: 0.2976 - val_accuracy: 0.8989 - 32s/epoch - 311ms/step\n",
      "Epoch 5/150\n",
      "104/104 - 32s - loss: 0.2918 - accuracy: 0.8944 - val_loss: 0.2594 - val_accuracy: 0.9153 - 32s/epoch - 312ms/step\n",
      "Epoch 6/150\n",
      "104/104 - 33s - loss: 0.2620 - accuracy: 0.9064 - val_loss: 0.2206 - val_accuracy: 0.9208 - 33s/epoch - 313ms/step\n",
      "Epoch 7/150\n",
      "104/104 - 32s - loss: 0.2269 - accuracy: 0.9214 - val_loss: 0.2214 - val_accuracy: 0.9262 - 32s/epoch - 312ms/step\n",
      "Epoch 8/150\n",
      "104/104 - 32s - loss: 0.2076 - accuracy: 0.9293 - val_loss: 0.1927 - val_accuracy: 0.9385 - 32s/epoch - 312ms/step\n",
      "Epoch 9/150\n",
      "104/104 - 33s - loss: 0.1758 - accuracy: 0.9349 - val_loss: 0.1816 - val_accuracy: 0.9413 - 33s/epoch - 313ms/step\n",
      "Epoch 10/150\n",
      "104/104 - 32s - loss: 0.1558 - accuracy: 0.9462 - val_loss: 0.1781 - val_accuracy: 0.9399 - 32s/epoch - 311ms/step\n",
      "Epoch 11/150\n",
      "104/104 - 32s - loss: 0.1418 - accuracy: 0.9501 - val_loss: 0.1596 - val_accuracy: 0.9426 - 32s/epoch - 312ms/step\n",
      "Epoch 12/150\n",
      "104/104 - 32s - loss: 0.1399 - accuracy: 0.9534 - val_loss: 0.1704 - val_accuracy: 0.9413 - 32s/epoch - 311ms/step\n",
      "Epoch 13/150\n",
      "104/104 - 32s - loss: 0.1298 - accuracy: 0.9578 - val_loss: 0.1572 - val_accuracy: 0.9495 - 32s/epoch - 311ms/step\n",
      "Epoch 14/150\n",
      "104/104 - 32s - loss: 0.1064 - accuracy: 0.9645 - val_loss: 0.1727 - val_accuracy: 0.9467 - 32s/epoch - 310ms/step\n",
      "Epoch 15/150\n",
      "104/104 - 32s - loss: 0.0967 - accuracy: 0.9667 - val_loss: 0.1441 - val_accuracy: 0.9563 - 32s/epoch - 312ms/step\n",
      "Epoch 16/150\n",
      "104/104 - 32s - loss: 0.0918 - accuracy: 0.9723 - val_loss: 0.1583 - val_accuracy: 0.9536 - 32s/epoch - 312ms/step\n",
      "Epoch 17/150\n",
      "104/104 - 32s - loss: 0.0803 - accuracy: 0.9720 - val_loss: 0.1822 - val_accuracy: 0.9481 - 32s/epoch - 312ms/step\n",
      "Epoch 18/150\n",
      "104/104 - 32s - loss: 0.0795 - accuracy: 0.9720 - val_loss: 0.1302 - val_accuracy: 0.9617 - 32s/epoch - 312ms/step\n",
      "Epoch 19/150\n",
      "104/104 - 33s - loss: 0.0763 - accuracy: 0.9756 - val_loss: 0.1484 - val_accuracy: 0.9617 - 33s/epoch - 314ms/step\n",
      "Epoch 20/150\n",
      "104/104 - 32s - loss: 0.0825 - accuracy: 0.9701 - val_loss: 0.1318 - val_accuracy: 0.9604 - 32s/epoch - 312ms/step\n",
      "Epoch 21/150\n",
      "104/104 - 32s - loss: 0.0641 - accuracy: 0.9800 - val_loss: 0.1427 - val_accuracy: 0.9631 - 32s/epoch - 312ms/step\n",
      "Epoch 22/150\n",
      "104/104 - 32s - loss: 0.0507 - accuracy: 0.9843 - val_loss: 0.1399 - val_accuracy: 0.9631 - 32s/epoch - 312ms/step\n",
      "Epoch 23/150\n",
      "104/104 - 32s - loss: 0.0535 - accuracy: 0.9829 - val_loss: 0.1580 - val_accuracy: 0.9604 - 32s/epoch - 310ms/step\n",
      "Epoch 24/150\n",
      "104/104 - 32s - loss: 0.0574 - accuracy: 0.9781 - val_loss: 0.1488 - val_accuracy: 0.9563 - 32s/epoch - 309ms/step\n",
      "Epoch 25/150\n",
      "104/104 - 32s - loss: 0.0454 - accuracy: 0.9853 - val_loss: 0.1299 - val_accuracy: 0.9645 - 32s/epoch - 312ms/step\n",
      "Epoch 26/150\n",
      "104/104 - 32s - loss: 0.0455 - accuracy: 0.9858 - val_loss: 0.1284 - val_accuracy: 0.9672 - 32s/epoch - 311ms/step\n",
      "Epoch 27/150\n",
      "104/104 - 32s - loss: 0.0439 - accuracy: 0.9853 - val_loss: 0.1262 - val_accuracy: 0.9631 - 32s/epoch - 310ms/step\n",
      "Epoch 28/150\n",
      "104/104 - 33s - loss: 0.0353 - accuracy: 0.9904 - val_loss: 0.1221 - val_accuracy: 0.9658 - 33s/epoch - 313ms/step\n",
      "Epoch 29/150\n",
      "104/104 - 32s - loss: 0.0424 - accuracy: 0.9865 - val_loss: 0.1383 - val_accuracy: 0.9590 - 32s/epoch - 311ms/step\n",
      "Epoch 30/150\n",
      "104/104 - 32s - loss: 0.0426 - accuracy: 0.9858 - val_loss: 0.1274 - val_accuracy: 0.9617 - 32s/epoch - 312ms/step\n",
      "Epoch 31/150\n",
      "104/104 - 32s - loss: 0.0407 - accuracy: 0.9848 - val_loss: 0.1437 - val_accuracy: 0.9590 - 32s/epoch - 312ms/step\n",
      "Epoch 32/150\n",
      "104/104 - 32s - loss: 0.0431 - accuracy: 0.9853 - val_loss: 0.1352 - val_accuracy: 0.9631 - 32s/epoch - 311ms/step\n",
      "Epoch 33/150\n",
      "104/104 - 32s - loss: 0.0395 - accuracy: 0.9853 - val_loss: 0.1168 - val_accuracy: 0.9645 - 32s/epoch - 312ms/step\n",
      "Epoch 34/150\n",
      "104/104 - 32s - loss: 0.0397 - accuracy: 0.9879 - val_loss: 0.1196 - val_accuracy: 0.9645 - 32s/epoch - 311ms/step\n",
      "Epoch 35/150\n",
      "104/104 - 32s - loss: 0.0278 - accuracy: 0.9899 - val_loss: 0.1396 - val_accuracy: 0.9604 - 32s/epoch - 312ms/step\n",
      "Epoch 36/150\n",
      "104/104 - 33s - loss: 0.0277 - accuracy: 0.9899 - val_loss: 0.1331 - val_accuracy: 0.9577 - 33s/epoch - 313ms/step\n",
      "Epoch 37/150\n",
      "104/104 - 33s - loss: 0.0311 - accuracy: 0.9901 - val_loss: 0.1331 - val_accuracy: 0.9617 - 33s/epoch - 313ms/step\n",
      "Epoch 38/150\n",
      "104/104 - 32s - loss: 0.0312 - accuracy: 0.9904 - val_loss: 0.1249 - val_accuracy: 0.9658 - 32s/epoch - 312ms/step\n",
      "Epoch 39/150\n",
      "104/104 - 32s - loss: 0.0274 - accuracy: 0.9904 - val_loss: 0.1336 - val_accuracy: 0.9577 - 32s/epoch - 311ms/step\n",
      "Epoch 40/150\n",
      "104/104 - 32s - loss: 0.0259 - accuracy: 0.9908 - val_loss: 0.1404 - val_accuracy: 0.9631 - 32s/epoch - 311ms/step\n",
      "Epoch 41/150\n",
      "104/104 - 32s - loss: 0.0313 - accuracy: 0.9879 - val_loss: 0.1198 - val_accuracy: 0.9617 - 32s/epoch - 311ms/step\n",
      "Epoch 42/150\n",
      "104/104 - 33s - loss: 0.0301 - accuracy: 0.9889 - val_loss: 0.1406 - val_accuracy: 0.9604 - 33s/epoch - 313ms/step\n",
      "Epoch 43/150\n",
      "104/104 - 32s - loss: 0.0269 - accuracy: 0.9918 - val_loss: 0.1387 - val_accuracy: 0.9645 - 32s/epoch - 312ms/step\n",
      "27/27 [==============================] - 1s 46ms/step\n",
      "              precision    recall  f1-score   support\n",
      "\n",
      "      CD-Box       0.96      0.99      0.97       287\n",
      "    HACA-Box       0.96      0.94      0.95       287\n",
      "      scaRNA       0.96      0.95      0.96       287\n",
      "\n",
      "    accuracy                           0.96       861\n",
      "   macro avg       0.96      0.96      0.96       861\n",
      "weighted avg       0.96      0.96      0.96       861\n",
      "\n"
     ]
    }
   ],
   "source": [
    "callback = keras.callbacks.EarlyStopping(monitor='val_loss', patience=10, restore_best_weights=True)\n",
    "\n",
    "# Create and fit the model\n",
    "model = create_model_late_integration()\n",
    "model.fit([X_train_seq_array, X_train_struct_array], Y_train_ohe, epochs=150, batch_size=40, verbose=2, validation_split=0.15, callbacks=[callback])\n",
    "\n",
    "# Predict the test set and transform the prediction to labels\n",
    "pred = model.predict([X_test_seq_array, X_test_struct_array])\n",
    "pred_labels_late_int = ohe.inverse_transform(pred)\n",
    "\n",
    "# Save scores for plotting\n",
    "f1_late_int = f1_score(Y_test, pred_labels_late_int, average=\"weighted\")\n",
    "prec_late_int = precision_score(Y_test, pred_labels_late_int, average=\"weighted\")\n",
    "rec_late_int = recall_score(Y_test, pred_labels_late_int, average=\"weighted\")\n",
    "\n",
    "# Print classification report\n",
    "print(classification_report(Y_test, pred_labels_late_int, digits=2))"
   ]
  },
  {
   "cell_type": "code",
   "execution_count": 22,
   "metadata": {},
   "outputs": [
    {
     "data": {
      "text/plain": [
       "<AxesSubplot: >"
      ]
     },
     "execution_count": 22,
     "metadata": {},
     "output_type": "execute_result"
    },
    {
     "data": {
      "image/png": "[encoded data removed]",
      "text/plain": [
       "<Figure size 432x288 with 2 Axes>"
      ]
     },
     "metadata": {
      "needs_background": "light"
     },
     "output_type": "display_data"
    }
   ],
   "source": [
    "from sklearn.metrics import confusion_matrix\n",
    "import seaborn as sns\n",
    "\n",
    "# Create confusion matrix\n",
    "conf_matrix = confusion_matrix(Y_test, pred_labels_late_int, normalize=\"true\")\n",
    "\n",
    "# Transform into a dataframe\n",
    "conf_df = pd.DataFrame(conf_matrix, index=[\"CD-Box\", \"HACA-Box\", \"scaRNA\"], columns=[\"CD-Box\", \"HACA-Box\", \"scaRNA\"])\n",
    "\n",
    "# Plot heatmap\n",
    "sns.heatmap(conf_df, annot=True, cmap=\"Blues\")"
   ]
  },
  {
   "cell_type": "markdown",
   "metadata": {},
   "source": [
    "As a final visualization we can now compare the influence of the different inputs and combinations."
   ]
  },
  {
   "cell_type": "code",
   "execution_count": 23,
   "metadata": {},
   "outputs": [
    {
     "data": {
      "text/plain": [
       "<AxesSubplot: xlabel='variable', ylabel='value'>"
      ]
     },
     "execution_count": 23,
     "metadata": {},
     "output_type": "execute_result"
    },
    {
     "data": {
      "image/png": "[encoded data removed]",
      "text/plain": [
       "<Figure size 432x288 with 1 Axes>"
      ]
     },
     "metadata": {
      "needs_background": "light"
     },
     "output_type": "display_data"
    }
   ],
   "source": [
    "# Create Dictionary with all scores\n",
    "dictionary = {\"F1\": [f1_db, f1_structure, f1_early_int, f1_late_int],\n",
    "              \"Precision\": [prec_db, prec_structure, prec_early_int, prec_late_int],\n",
    "              \"Recall\": [rec_db, rec_structure, rec_early_int, rec_late_int],\n",
    "              \"Model\": [\"Dot-Bracket\", \"Structure\", \"Early Integration\", \"Late Integration\"]}\n",
    "\n",
    "# Save them into a dataframe\n",
    "df = pd.DataFrame(dictionary)\n",
    "df = pd.melt(df, id_vars=[\"Model\"])\n",
    "\n",
    "# Plot the scores using a barplot\n",
    "sns.barplot(data=df, x=\"variable\", y=\"value\", hue=\"Model\")"
   ]
  },
  {
   "cell_type": "markdown",
   "metadata": {},
   "source": [
    "**What input seems to perform best? Is the combination/integration giving better results?**"
   ]
  },
  {
   "cell_type": "code",
   "execution_count": null,
   "metadata": {},
   "outputs": [],
   "source": []
  },
  {
   "cell_type": "code",
   "execution_count": null,
   "metadata": {},
   "outputs": [],
   "source": []
  }
 ],
 "metadata": {
  "jupyter_starters": {
   "starter": {
    "schema": {},
    "uiSchema": {}
   }
  },
  "kernelspec": {
   "display_name": "Python 3",
   "language": "python",
   "name": "python3"
  },
  "language_info": {
   "codemirror_mode": {
    "name": "ipython",
    "version": 3
   },
   "file_extension": ".py",
   "mimetype": "text/x-python",
   "name": "python",
   "nbconvert_exporter": "python",
   "pygments_lexer": "ipython3",
   "version": "3.9.2"
  }
 },
 "nbformat": 4,
 "nbformat_minor": 4
}
