{
 "cells": [
  {
   "cell_type": "markdown",
   "metadata": {
    "slideshow": {
     "slide_type": "slide"
    }
   },
   "source": [
    "<p style=\"text-align:right;\">Mario Stanke, University of Greifswald, Germany</p>\n",
    "\n",
    "# Exercise Set 1 - 3 - A Different Loss\n",
    "\n",
    "In this notebook you will learn how to customize the loss function that is used to fit a model to data. If the choice of the loss function does not align with the problem we want to solve,\n",
    "we might end up with a model that has very low loss values, but is still behind our expectations.\n",
    "\n",
    "We reconsider the bike rental problem with a different loss function. For the bike rental problem, we could say we have two kinds of errors: \n",
    "\n",
    "1. Prepare more bikes than necessary.\n",
    "2. Prepare less likes than necessary.\n",
    "\n",
    "Let again $t = h_{\\pmb{\\theta}}(x) := \\theta_0 + \\theta_1 x$ be the number of bikes we make ready depending on the (forecast) temperature $x = x_1$.\n",
    "\n",
    " 1. If the demand $y$ exceeds the number of bikes made ready $t$, we incurr costs $5(y-t)$ for the lost revenue.\n",
    " 2. If the bikes made ready $t$ exceed the demand $y$, we incurr costs $t-y$ for making the superfluous bikes ready.\n",
    " \n",
    "Therefore, we *weight* both errors differently. \n",
    "\n",
    "We seek to find a $\\pmb{\\theta}$ that minimizes \n",
    " $$L(\\pmb{\\theta}) = \\frac{1}{m} \\sum_{i=1}^m \\ell(y_i, h_{\\pmb{\\theta}}(x^{(i)})),$$\n",
    "where\n",
    "$$ \\ell(y, t) = 5 \\cdot \\texttt{relu}(y-t) + \\texttt{relu}(t-y)$$\n",
    "and \n",
    "$$\\texttt{relu}(z):= \\max\\{z, 0\\}$$\n",
    "is the so-called *rectified linear unit*:\n",
    "\n",
    "<img src=\"activ-relu.png\" width=\"400\"/>\n",
    "\n",
    "Relu is a commonly used activation function already part of tensorflow: [tf.nn.relu](https://www.tensorflow.org/api_docs/python/tf/nn/relu)."
   ]
  },
  {
   "cell_type": "markdown",
   "metadata": {},
   "source": [
    "### 1. Implement $\\ell(y, t)$ with TensorFlow functions."
   ]
  },
  {
   "cell_type": "code",
   "execution_count": 1,
   "metadata": {
    "slideshow": {
     "slide_type": "slide"
    }
   },
   "outputs": [],
   "source": [
    "# First import libraries\n",
    "import pandas as pd\n",
    "import matplotlib.pyplot as plt\n",
    "import numpy as np\n",
    "import tensorflow as tf"
   ]
  },
  {
   "cell_type": "markdown",
   "metadata": {},
   "source": [
    "Define the function ```ell``` to be used below.  \n",
    "Tipps: [tf.nn.relu](https://www.tensorflow.org/versions/r2.0/api_docs/python/tf/nn/relu)"
   ]
  },
  {
   "cell_type": "code",
   "execution_count": 2,
   "metadata": {},
   "outputs": [],
   "source": [
    "def ell(y, t):\n",
    "    '''\n",
    "        Input: y and t are vectors of the same size.\n",
    "        Output: vector of 5 * relu(y-t) + relu(t-y) applied to each component of y and t\n",
    "    '''\n",
    "    # ADD YOUR CODE HERE, 1 line, replace this line\n",
    "    return tf.zeros_like(y)"
   ]
  },
  {
   "cell_type": "code",
   "execution_count": 3,
   "metadata": {},
   "outputs": [
    {
     "name": "stdout",
     "output_type": "stream",
     "text": [
      "t = [3. 4. 0. 1.] \n",
      "y = [3. 5. 7. 0.] \n",
      "losses = [0. 0. 0. 0.]\n"
     ]
    }
   ],
   "source": [
    "# test the function\n",
    "np.random.seed(1) # so the whole class uses the same pseudorandom numbers\n",
    "\n",
    "t1 = tf.constant(np.random.randint(low=0, high=5, size=4), dtype='float64') # bikes ready\n",
    "y1 = tf.constant(np.random.randint(low=0, high=8, size=4), dtype='float64') # bike demand\n",
    "\n",
    "losses = ell(y1, t1)\n",
    "print(\"t =\", t1.numpy(),\n",
    "      \"\\ny =\", y1.numpy(),\n",
    "      \"\\nlosses =\", losses.numpy())"
   ]
  },
  {
   "cell_type": "markdown",
   "metadata": {},
   "source": [
    "**Solution:**\n",
    "```\n",
    "t = [3. 4. 0. 1.] \n",
    "y = [3. 5. 7. 0.] \n",
    "losses = [ 0.  5. 35.  1.]\n",
    "```"
   ]
  },
  {
   "cell_type": "markdown",
   "metadata": {},
   "source": [
    "## 2. Make TensorFlow use your loss\n",
    " 1. Below code is a copy of the relevant parts from todays lecture. First, execute everything as is, e.g. using Kernel->Restart & Run All.\n",
    " 2. Go to the function ```train_step``` and replace your own loss function where the code is marked YOUR CODE HERE.\n"
   ]
  },
  {
   "cell_type": "code",
   "execution_count": 4,
   "metadata": {
    "slideshow": {
     "slide_type": "slide"
    }
   },
   "outputs": [],
   "source": [
    "# load the training data from the table file to a pandas data frame\n",
    "df = pd.read_csv(\"bikes-summerdays.tbl\", sep='\\s+')\n",
    "df['count'] = df['count'].astype(float) # convert count data to floats\n",
    "m, n_cols = df.shape # training set size and number of columns"
   ]
  },
  {
   "cell_type": "code",
   "execution_count": 5,
   "metadata": {
    "scrolled": true
   },
   "outputs": [],
   "source": [
    "def scatterplot_rentals():\n",
    "    ''' Plot the bike rental counts versus the temperature.'''\n",
    "    _, ax = plt.subplots()\n",
    "    ax.scatter(df[\"temp\"], df[\"count\"])\n",
    "    plt.title(\"bike rentals versus temperature\")\n",
    "    plt.xlabel('temperature [' + r'$^\\circ$' + 'C]')\n",
    "    plt.ylabel('rental count per hour');\n",
    "    return ax"
   ]
  },
  {
   "cell_type": "markdown",
   "metadata": {},
   "source": [
    "## Create Data Matrix $X$ and response vector $y$"
   ]
  },
  {
   "cell_type": "code",
   "execution_count": 6,
   "metadata": {},
   "outputs": [],
   "source": [
    "# extract response vector\n",
    "y_train = np.array(df['count']) \n",
    "\n",
    "# extract feature columns\n",
    "n = n_cols - 1 # number of features\n",
    "temps = np.array(df.loc[:, df.columns != 'count']) # matrix of all other columns (here only one col)\n",
    "\n",
    "# make data matrix X\n",
    "X_train = np.ones((m, n+1)) # initialize with all ones\n",
    "X_train[:,1:n+1] = temps / 10 - 2.5 # normalize temperatures so they are roughly in [-1,1] "
   ]
  },
  {
   "cell_type": "markdown",
   "metadata": {},
   "source": [
    "## Training"
   ]
  },
  {
   "cell_type": "markdown",
   "metadata": {},
   "source": [
    "#### Define your own loss function here\n",
    "*Tip:* [tf.reduce_mean](https://www.tensorflow.org/versions/r2.0/api_docs/python/tf/math/reduce_mean?hl=en)"
   ]
  },
  {
   "cell_type": "code",
   "execution_count": 7,
   "metadata": {},
   "outputs": [],
   "source": [
    "#loss functions for supervised learning in tensorflow always have the form true values first, predictions after\n",
    "def loss_fkt(y_true, y_pred):\n",
    "    ''' Returns the mean loss according to function ell'''\n",
    "    # YOUR CODE HERE, replace the following line with a call to your own loss function ell\n",
    "    # REMEMBER TO take the average, too, so E is a scalar.\n",
    "    E = tf.keras.losses.MeanSquaredError()(y_true, y_pred)\n",
    "    # END OF YOUR CODE\n",
    "    return E"
   ]
  },
  {
   "cell_type": "markdown",
   "metadata": {},
   "source": [
    "#### Test of ```loss_fkt```"
   ]
  },
  {
   "cell_type": "code",
   "execution_count": 8,
   "metadata": {},
   "outputs": [
    {
     "name": "stdout",
     "output_type": "stream",
     "text": [
      "t = [3. 4. 0. 1.] \n",
      "y = [3. 5. 7. 0.] \n",
      "E = 12.75\n"
     ]
    }
   ],
   "source": [
    "np.random.seed(1)\n",
    "\n",
    "t1 = tf.constant(np.random.randint(low=0, high=5, size=4), dtype='float64') # bikes ready\n",
    "y1 = tf.constant(np.random.randint(low=0, high=8, size=4), dtype='float64') # bike demand\n",
    "\n",
    "E = loss_fkt(y1, t1)\n",
    "print(\"t =\", t1.numpy(),\n",
    "      \"\\ny =\", y1.numpy(),\n",
    "      \"\\nE =\", E.numpy())"
   ]
  },
  {
   "cell_type": "markdown",
   "metadata": {},
   "source": [
    "**Solution:**\n",
    "```\n",
    "t = [3. 4. 0. 1.] \n",
    "y = [3. 5. 7. 0.] \n",
    "E = 10.25\n",
    "```"
   ]
  },
  {
   "cell_type": "code",
   "execution_count": 9,
   "metadata": {},
   "outputs": [],
   "source": [
    "optimizer = tf.keras.optimizers.SGD(learning_rate = .1, momentum = 0.8)"
   ]
  },
  {
   "cell_type": "code",
   "execution_count": 10,
   "metadata": {},
   "outputs": [
    {
     "name": "stdout",
     "output_type": "stream",
     "text": [
      "Epoch 1/10\n",
      "47/47 [==============================] - 1s 645us/step - loss: 35343.2695\n",
      "Epoch 2/10\n",
      "47/47 [==============================] - 0s 680us/step - loss: 27656.4434\n",
      "Epoch 3/10\n",
      "47/47 [==============================] - 0s 691us/step - loss: 27969.6348\n",
      "Epoch 4/10\n",
      "47/47 [==============================] - 0s 668us/step - loss: 27658.5742\n",
      "Epoch 5/10\n",
      "47/47 [==============================] - 0s 702us/step - loss: 27841.4707\n",
      "Epoch 6/10\n",
      "47/47 [==============================] - 0s 677us/step - loss: 27992.4512\n",
      "Epoch 7/10\n",
      "47/47 [==============================] - 0s 682us/step - loss: 27740.6992\n",
      "Epoch 8/10\n",
      "47/47 [==============================] - 0s 684us/step - loss: 27763.6484\n",
      "Epoch 9/10\n",
      "47/47 [==============================] - 0s 717us/step - loss: 27496.5293\n",
      "Epoch 10/10\n",
      "47/47 [==============================] - 0s 683us/step - loss: 27901.3770\n"
     ]
    }
   ],
   "source": [
    "# same code as in previous notebook\n",
    "dataset = tf.data.Dataset.from_tensor_slices((X_train, y_train))\n",
    "dataset = dataset.shuffle(m).batch(32) \n",
    "model = tf.keras.Sequential()\n",
    "model.add(tf.keras.layers.Dense(\n",
    "    units = 1, input_dim = 2,\n",
    "    use_bias = False, # bias equivalent to adding x_0 := 1\n",
    "    dtype = 'float64'))\n",
    "\n",
    "#YOUR CODE HERE\n",
    "#replace the MSE below with your own loss function\n",
    "model.compile(optimizer = optimizer, loss = tf.keras.losses.MeanSquaredError())\n",
    "\n",
    "# same code as in previous notebook\n",
    "class CustomCallback(tf.keras.callbacks.Callback):\n",
    "    def __init__(self):\n",
    "        self.theta = []\n",
    "    \n",
    "    def on_epoch_end(self, batch, logs=None):\n",
    "        self.theta.append(tf.squeeze(model.get_weights()[0]))\n",
    "callback = CustomCallback()\n",
    "history = model.fit(dataset, epochs=10, callbacks=[callback])"
   ]
  },
  {
   "cell_type": "code",
   "execution_count": 11,
   "metadata": {},
   "outputs": [
    {
     "name": "stdout",
     "output_type": "stream",
     "text": [
      "theta:\n",
      " [[287.90757615]\n",
      " [121.80538138]]\n",
      "Loss =  tf.Tensor(28007.203125, shape=(), dtype=float64)\n"
     ]
    }
   ],
   "source": [
    "print(\"theta:\\n\", model.trainable_variables[0].numpy())\n",
    "# make final prediction on all training data\n",
    "y_pred = tf.reshape(model(X_train), [m])\n",
    "print (\"Loss = \", loss_fkt(y_train, y_pred))"
   ]
  },
  {
   "cell_type": "markdown",
   "metadata": {},
   "source": [
    "## Plot predictions"
   ]
  },
  {
   "cell_type": "code",
   "execution_count": 12,
   "metadata": {},
   "outputs": [
    {
     "data": {
      "image/png": "[encoded data removed]",
      "text/plain": [
       "<Figure size 432x288 with 1 Axes>"
      ]
     },
     "metadata": {
      "needs_background": "light"
     },
     "output_type": "display_data"
    }
   ],
   "source": [
    "# draw the same scatterplot as above\n",
    "ax = scatterplot_rentals()\n",
    "\n",
    "# now add the predictions, here a regression line\n",
    "ax.plot(temps, y_pred, 'rx-', label=r\"$\\theta_0 + \\theta_1 X$\") # - draws line connecting (r)ed crosses (x)\n",
    "ax.legend(loc = 'upper left');"
   ]
  },
  {
   "cell_type": "markdown",
   "metadata": {},
   "source": [
    "After you have solved the exercise correctly, the regression line will have moved up a bit compared to the regular regression line (ending above 600 bikes at maximal temperature). This is due to the fact that the differences to the $y$-values above the line are penalized more. "
   ]
  }
 ],
 "metadata": {
  "kernelspec": {
   "display_name": "Python 3",
   "language": "python",
   "name": "python3"
  },
  "language_info": {
   "codemirror_mode": {
    "name": "ipython",
    "version": 3
   },
   "file_extension": ".py",
   "mimetype": "text/x-python",
   "name": "python",
   "nbconvert_exporter": "python",
   "pygments_lexer": "ipython3",
   "version": "3.9.2"
  },
  "widgets": {
   "application/vnd.jupyter.widget-state+json": {
    "state": {},
    "version_major": 2,
    "version_minor": 0
   }
  }
 },
 "nbformat": 4,
 "nbformat_minor": 4
}
