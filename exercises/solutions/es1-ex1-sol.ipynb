{
 "cells": [
  {
   "cell_type": "markdown",
   "id": "95723ba3-57b4-4c92-bcd8-1b1403365be8",
   "metadata": {},
   "source": [
    "<sub>Felix Becker, Lars Gabriel University of Greifswald, Germany</sub>\n",
    "# Exercise Set 1 - 1\n",
    "\n",
    "The potential of machine learning ultimatively comes from pattern detection in large amounts of data. However, before we can train a model and make predictions, we have to:\n",
    " - Analyse the raw data (which filetypes, how is the data organized?)\n",
    " - Read data file(s) into memory\n",
    " - Make statistical analyses (e.g. plots)  \n",
    " - Manipulate the data (reshape and mathematical operations), remove, add or combine features\n",
    " \n",
    "## Raw data\n",
    "\n",
    "Inspect the file *bikes-summerdays-full.csv*. How many datapoints and attributes are there? What delimiter is used? Has the file one or more header rows? Are there missing values?\n",
    "\n",
    "*Tip: Double clicking the file in jupyter opens a CSVTable view. You can also open the file as raw text by right clicking $\\rightarrow$ Open With $\\rightarrow$ Editor.*\n",
    "\n",
    "## Read the file\n",
    "\n"
   ]
  },
  {
   "cell_type": "code",
   "execution_count": 1,
   "id": "7a3f1d37-b2f4-44ca-a2f4-2a1876631f47",
   "metadata": {},
   "outputs": [],
   "source": [
    "import pandas as pd\n",
    "import matplotlib.pyplot as plt\n",
    "import numpy as np"
   ]
  },
  {
   "cell_type": "markdown",
   "id": "07fef8f7-06a0-4e84-95e4-347f17d7b540",
   "metadata": {},
   "source": [
    "In the cell below, read the data file as a pandas dataframe called ``df``. Take care to handle the header line of the file correctly and use the right delimiter/separator."
   ]
  },
  {
   "cell_type": "code",
   "execution_count": 2,
   "id": "45d83c6b-29b6-492f-8ebd-6a7ee405d7a9",
   "metadata": {},
   "outputs": [],
   "source": [
    "df = pd.read_csv(\"../bikes-summerdays-full.csv\", sep = \";\") #YOUR TASK: choose a correct separator with the \"sep\" argument"
   ]
  },
  {
   "cell_type": "markdown",
   "id": "c2d94439-106d-4fb7-8e31-94c950f66a08",
   "metadata": {},
   "source": [
    "Print the following things:\n",
    "- What is the shape of the dataframe?\n",
    "- What are the datatypes of the columns \"season\" and \"temp\"?\n",
    "- What is the maximum and minimum temperature?\n",
    "\n",
    "Remember that `df` is a [pandas dataframe](https://pandas.pydata.org/docs/reference/api/pandas.DataFrame.html) and that you can use class member functions to solve the task. Alternatively, you could also apply numpy functions to numeric columns. Useful functions are `np.amin` and `np.amax`."
   ]
  },
  {
   "cell_type": "code",
   "execution_count": 3,
   "id": "eeb6512f-a492-4a06-b387-b2ad0c3f0627",
   "metadata": {},
   "outputs": [
    {
     "name": "stdout",
     "output_type": "stream",
     "text": [
      "(10886, 12)\n",
      "datetime       object\n",
      "season          int64\n",
      "holiday         int64\n",
      "workingday      int64\n",
      "weather         int64\n",
      "temp          float64\n",
      "atemp         float64\n",
      "humidity        int64\n",
      "windspeed     float64\n",
      "casual          int64\n",
      "registered      int64\n",
      "count           int64\n",
      "dtype: object\n",
      "0.82 41.0\n"
     ]
    }
   ],
   "source": [
    "## YOUR CODE HERE\n",
    "## play around with the dataframe and complete the tasks above\n",
    "print(df.shape)\n",
    "print(df.dtypes)\n",
    "print(df.temp.min(), df.temp.max())"
   ]
  },
  {
   "cell_type": "markdown",
   "id": "2c51e1c6-706c-4d30-b80a-a9b05b692104",
   "metadata": {},
   "source": [
    "The dataset contains dates that are rather useless if stored as strings:"
   ]
  },
  {
   "cell_type": "code",
   "execution_count": 4,
   "id": "b14e204b-1ef1-4bc8-a685-d7f85dd297b6",
   "metadata": {},
   "outputs": [
    {
     "data": {
      "text/plain": [
       "0        2011-01-01 00:00:00\n",
       "1        2011-01-01 01:00:00\n",
       "2        2011-01-01 02:00:00\n",
       "3        2011-01-01 03:00:00\n",
       "4        2011-01-01 04:00:00\n",
       "                ...         \n",
       "10881    2012-12-19 19:00:00\n",
       "10882    2012-12-19 20:00:00\n",
       "10883    2012-12-19 21:00:00\n",
       "10884    2012-12-19 22:00:00\n",
       "10885    2012-12-19 23:00:00\n",
       "Name: datetime, Length: 10886, dtype: object"
      ]
     },
     "execution_count": 4,
     "metadata": {},
     "output_type": "execute_result"
    }
   ],
   "source": [
    "df[\"datetime\"]"
   ]
  },
  {
   "cell_type": "markdown",
   "id": "8f2807d1-4e63-4591-9879-c792730fcba8",
   "metadata": {},
   "source": [
    "The following cell will convert *datetime* to a proper time format that allows the extraction of hours, days and month. If the following cell prints an error message, go back and make sure you chose the correct separator character."
   ]
  },
  {
   "cell_type": "code",
   "execution_count": 5,
   "id": "be146f33-5d68-4978-9c3a-c875c2932879",
   "metadata": {},
   "outputs": [],
   "source": [
    "df[\"datetime\"] = pd.DatetimeIndex(df[\"datetime\"])\n",
    "df[\"hour\"] = [t.hour for t in df[\"datetime\"]]\n",
    "df[\"dayofweek\"] = [t.dayofweek for t in df[\"datetime\"]]\n",
    "df[\"month\"] = [t.month for t in df[\"datetime\"]]"
   ]
  },
  {
   "cell_type": "markdown",
   "id": "12f7b12f-c2ca-47f4-92e6-a2599cbd3584",
   "metadata": {},
   "source": [
    "## Getting warm: Simple statistical analyses\n",
    "\n",
    "The original data came with a description for each data column. Lets assume we don't have this description and want to find out what the encoding 1,2,3,4 for \"season\" means. \n",
    "\n",
    "- Print (a subset of) the values from the \"season\" column\n",
    "- Use the helper function below to create boxplots for the temperatures of the 4 seasons and make a guess which number corresponds to which season.\n",
    "\n",
    "*Tips (assuming X,Y are vectors of the same size):*\n",
    "- *``X == i`` returns a boolean vector that has \"true\" on each position that matches i.*\n",
    "- *use ``Y[X == i]`` (boolean mask) to retrieve subsets*"
   ]
  },
  {
   "cell_type": "code",
   "execution_count": 6,
   "id": "7151a36e-ca50-49a6-a13e-63772fbfb0e1",
   "metadata": {},
   "outputs": [
    {
     "data": {
      "image/png": "[encoded data removed]",
      "text/plain": [
       "<Figure size 432x288 with 1 Axes>"
      ]
     },
     "metadata": {
      "needs_background": "light"
     },
     "output_type": "display_data"
    }
   ],
   "source": [
    "# expects data to be a list of length 4, where entry i is a np.array of temperatures for season i\n",
    "def boxplots(data):\n",
    "    fig, ax = plt.subplots()\n",
    "    ax.set_title(\"Temperature by season.\")\n",
    "    ax.set_xlabel(\"seasons\")\n",
    "    ax.set_ylabel(\"temperature in celsius\")\n",
    "    ax.boxplot(data)\n",
    "    \n",
    "# YOUR CODE STARTS\n",
    "data = [df[\"temp\"][df[\"season\"] == i] for i in range(1,5)]\n",
    "# YOUR CODE ENDS\n",
    "\n",
    "boxplots(data)"
   ]
  },
  {
   "cell_type": "markdown",
   "id": "9fc570e6-3124-44db-ab3c-d0f63cb85428",
   "metadata": {},
   "source": [
    "## Feature engineering: Create a datamatrix\n",
    "\n",
    "Most of the time, the raw data that we read from a file is not sufficient to be directly fed to a ML model. Usually we do:\n",
    "- normalize continuous variables (in some form) \n",
    "- one hot represent discrete variables\n",
    "- apply other transformations, for example we could guess that both for very low and very high temperatures fewer bikes are rented so that the square of the temperature might be useful\n",
    "\n",
    "*Note that the last point becomes less important with modern deep learning as in principal non-linear models could learn these transformations on their own.*\n",
    "\n",
    "Create a `np.matrix` $X$ of datatype float with the following columns:\n",
    "- workingday, holiday\n",
    "- normalized: windspeed, humidity, temp, atemp\n",
    "- squares of temp and atemp\n",
    "- one hot represented (!) weather and season\n",
    "- hour, dayofweek, month (normalized to (0,1], e.g. lunch time at 12am should map to 0.5)\n",
    "\n",
    "A **one hot representation** for example of the four seasons would map season $2$ to the vector $[0,0,1,0].$\n",
    "\n",
    "*Tip: Use the functions `to_one_hot` and `normalize`*"
   ]
  },
  {
   "cell_type": "code",
   "execution_count": 7,
   "id": "af7f8ad3-c0c8-4d1f-ac6e-c111908dca39",
   "metadata": {},
   "outputs": [
    {
     "data": {
      "text/plain": [
       "array([[ 0.        ,  0.        , -1.56775367, ...,  0.        ,\n",
       "         0.71428571,  0.08333333],\n",
       "       [ 0.        ,  0.        , -1.56775367, ...,  0.04166667,\n",
       "         0.71428571,  0.08333333],\n",
       "       [ 0.        ,  0.        , -1.56775367, ...,  0.08333333,\n",
       "         0.71428571,  0.08333333],\n",
       "       ...,\n",
       "       [ 1.        ,  0.        ,  0.26970368, ...,  0.875     ,\n",
       "         0.28571429,  1.        ],\n",
       "       [ 1.        ,  0.        , -0.83244247, ...,  0.91666667,\n",
       "         0.28571429,  1.        ],\n",
       "       [ 1.        ,  0.        , -0.46560752, ...,  0.95833333,\n",
       "         0.28571429,  1.        ]])"
      ]
     },
     "execution_count": 7,
     "metadata": {},
     "output_type": "execute_result"
    }
   ],
   "source": [
    "m = df.shape[0] #number of datapoints\n",
    "n = 19 #number of attributes\n",
    "\n",
    "X = np.zeros((m, n)) # initialize with all zeros\n",
    "\n",
    "#assumes that classes is a vector of length m with elements in range 0,1,...,num_classes-1\n",
    "#returns a matrix of shape (m, num_classes)\n",
    "def to_one_hot(classes, num_classes):\n",
    "    return np.eye(num_classes)[classes]\n",
    "\n",
    "#assumes that X is a vector, returns a normalized X\n",
    "def normalize(X):\n",
    "    return (X - np.mean(X)) / np.std(X)\n",
    "\n",
    "#example:\n",
    "X[:,0] = df[\"workingday\"]\n",
    "\n",
    "# YOUR CODE STARTS\n",
    "# add the remaining columns X[:,1], X[:,2], ...\n",
    "X[:,1] = df[\"holiday\"]\n",
    "X[:,2] = normalize(df[\"windspeed\"])\n",
    "X[:,3] = normalize(df[\"humidity\"])\n",
    "X[:,4] = normalize(df[\"temp\"])\n",
    "X[:,5] = normalize(df[\"atemp\"])\n",
    "X[:,6] = X[:,4]**2\n",
    "X[:,7] = X[:,5]**2\n",
    "X[:,8:12] = to_one_hot(df[\"weather\"]-1, np.unique(df[\"weather\"]).size)\n",
    "X[:,12:16] = to_one_hot(df[\"season\"]-1, np.unique(df[\"season\"]).size)\n",
    "X[:,16] = df[\"hour\"] / 24\n",
    "X[:,17] = df[\"dayofweek\"] / 7\n",
    "X[:,18] = df[\"month\"] / 12\n",
    "# YOUR CODE ENDS\n",
    "\n",
    "X"
   ]
  },
  {
   "cell_type": "code",
   "execution_count": 8,
   "id": "6b30fa7a-ca88-4e6f-8622-001cd21bff54",
   "metadata": {},
   "outputs": [],
   "source": [
    "#save X to a (binary) file and use it later in another notebook\n",
    "np.save(\"X\", X)\n",
    "#for convenience, also save y\n",
    "y = df[\"count\"]\n",
    "np.save(\"y\", y)"
   ]
  },
  {
   "cell_type": "markdown",
   "id": "bddec830-8a3c-49c1-8fd5-49cdb07850bc",
   "metadata": {},
   "source": [
    "We will use $X$ later to train a neural network.\n",
    "\n",
    "In Python *numpy* is usually used to transfer numeric data between frameworks e.g. it allows communication of *pandas* and *tensorflow*."
   ]
  },
  {
   "cell_type": "markdown",
   "id": "902519bb-93c9-42aa-ba4d-55fd736de207",
   "metadata": {},
   "source": [
    "## Fit a multivariate regression model\n",
    "\n",
    "Fitting a linear regression model on our prepared data using high-level keras is very easy. Read and execute the code below and see it happening."
   ]
  },
  {
   "cell_type": "code",
   "execution_count": 9,
   "id": "374e0e70-48f5-4de3-a6f9-78b8544d8eda",
   "metadata": {},
   "outputs": [],
   "source": [
    "import tensorflow as tf"
   ]
  },
  {
   "cell_type": "code",
   "execution_count": 10,
   "id": "6e70e122-a17e-4b96-98ba-43869bfa8028",
   "metadata": {},
   "outputs": [
    {
     "name": "stdout",
     "output_type": "stream",
     "text": [
      "Epoch 1/10\n",
      "273/273 [==============================] - 0s 490us/step - loss: 35452.1484 - val_loss: 58512.6367\n",
      "Epoch 2/10\n",
      "273/273 [==============================] - 0s 330us/step - loss: 21685.9805 - val_loss: 47663.1758\n",
      "Epoch 3/10\n",
      "273/273 [==============================] - 0s 293us/step - loss: 19623.2832 - val_loss: 44487.2188\n",
      "Epoch 4/10\n",
      "273/273 [==============================] - 0s 301us/step - loss: 18877.7598 - val_loss: 42980.0820\n",
      "Epoch 5/10\n",
      "273/273 [==============================] - 0s 292us/step - loss: 18537.1621 - val_loss: 43059.6836\n",
      "Epoch 6/10\n",
      "273/273 [==============================] - 0s 292us/step - loss: 18329.6504 - val_loss: 42920.3984\n",
      "Epoch 7/10\n",
      "273/273 [==============================] - 0s 289us/step - loss: 18183.8066 - val_loss: 42201.4648\n",
      "Epoch 8/10\n",
      "273/273 [==============================] - 0s 285us/step - loss: 18066.1074 - val_loss: 42370.3984\n",
      "Epoch 9/10\n",
      "273/273 [==============================] - 0s 397us/step - loss: 17958.1367 - val_loss: 41634.7891\n",
      "Epoch 10/10\n",
      "273/273 [==============================] - 0s 313us/step - loss: 17883.5371 - val_loss: 41683.2344\n"
     ]
    }
   ],
   "source": [
    "#construct the model which is just ja single Dense layer with 1 output unit\n",
    "model = tf.keras.Sequential()\n",
    "model.add(tf.keras.layers.Dense(units = 1))\n",
    "\n",
    "#here we use the popular Adam optimizer (a variant of stochastic gradient descent)\n",
    "#it's typically a very good choice for a broad range of problems\n",
    "optimizer = tf.keras.optimizers.Adam(learning_rate = 0.1)\n",
    "\n",
    "#we compile the model and tell the framework to use mean squared error\n",
    "model.compile(optimizer=optimizer, loss=\"mse\")\n",
    "\n",
    "#fit the model for 10 epochs (i.e. each datapoint is seen 10 times) on 80% of the data\n",
    "#test the models performance on the other 20% of the data\n",
    "history = model.fit(x=X, y=y, epochs=10, validation_split=0.2)"
   ]
  },
  {
   "cell_type": "code",
   "execution_count": 11,
   "id": "eec54042-2b27-4b19-ad11-85aea5a638fe",
   "metadata": {
    "tags": []
   },
   "outputs": [
    {
     "data": {
      "text/plain": [
       "<matplotlib.legend.Legend at 0x7f923044bd00>"
      ]
     },
     "execution_count": 11,
     "metadata": {},
     "output_type": "execute_result"
    },
    {
     "data": {
      "image/png": "[encoded data removed]",
      "text/plain": [
       "<Figure size 432x288 with 1 Axes>"
      ]
     },
     "metadata": {
      "needs_background": "light"
     },
     "output_type": "display_data"
    }
   ],
   "source": [
    "def plot_error(err, label, col=\"red\"):\n",
    "    ''' Plot error over time'''\n",
    "    plt.plot(np.log(err), 'o-', color=col, linewidth=.2, markersize=3, mfc='none', label=label)\n",
    "    plt.title(\"Log error by iteration of gradient descent\")\n",
    "    plt.xlabel('iteration '+r'$i$')\n",
    "    plt.ylabel(r'$ln \\;E(\\theta^{(i)})$');\n",
    "    \n",
    "plt.subplots()\n",
    "plot_error(history.history[\"loss\"], label=\"train error\")\n",
    "plot_error(history.history[\"val_loss\"], col=\"blue\", label=\"test error\")\n",
    "plt.legend()"
   ]
  },
  {
   "cell_type": "markdown",
   "id": "57664569-de82-4102-842f-450dfae65323",
   "metadata": {},
   "source": [
    "Of course, that is just the beginning:\n",
    "\n",
    "- From linear regression, what other model choices do I have?\n",
    "- What if I have data that has not a simple table-form like sequences or images?\n",
    "- How do I correctly select between different models?\n",
    "- How do I customize things like the loss function?\n",
    "- How do I customize the behavior of the optimizer?\n",
    "- What can I do if:\n",
    "    - The trained model is not better than the baseline?\n",
    "    - The training is too slow?\n",
    "    - Nothing seems to be learned at all, the loss does not shrink?\n",
    "    - My training loss is much lower than the test loss?"
   ]
  },
  {
   "cell_type": "code",
   "execution_count": null,
   "id": "c1393998-2ab0-40fb-9a32-430d771e146d",
   "metadata": {},
   "outputs": [],
   "source": []
  }
 ],
 "metadata": {
  "kernelspec": {
   "display_name": "Python 3",
   "language": "python",
   "name": "python3"
  },
  "language_info": {
   "codemirror_mode": {
    "name": "ipython",
    "version": 3
   },
   "file_extension": ".py",
   "mimetype": "text/x-python",
   "name": "python",
   "nbconvert_exporter": "python",
   "pygments_lexer": "ipython3",
   "version": "3.9.2"
  }
 },
 "nbformat": 4,
 "nbformat_minor": 5
}
