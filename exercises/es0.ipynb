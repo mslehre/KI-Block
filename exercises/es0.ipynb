{
 "cells": [
  {
   "cell_type": "markdown",
   "metadata": {},
   "source": [
    "<sub>Mario Stanke, University of Greifswald, Germany</sub>\n",
    "# Exercise Set 0\n",
    "<sup>(Python starts counting at 0!)</sup>\n",
    " - Please read, execute and comprehend this notebook step-by-step.\n",
    " - Do exercises marked with *ADD YOUR CODE HERE*.\n",
    " - Consider using the keyboard shortcuts A, B, X and Shift+Enter explained in the *Help* menu.\n",
    " \n",
    "## Some Syntax - Mostly NumPy (tensorflow works very similar)"
   ]
  },
  {
   "cell_type": "markdown",
   "metadata": {},
   "source": [
    "**1.** Solve the problem of computing\n",
    "$$1+1.$$"
   ]
  },
  {
   "cell_type": "code",
   "execution_count": 1,
   "metadata": {},
   "outputs": [],
   "source": [
    "# ADD YOUR CODE HERE and run the cell (Shift+Enter)\n"
   ]
  },
  {
   "cell_type": "markdown",
   "metadata": {},
   "source": [
    "**Solution:** ```2```"
   ]
  },
  {
   "cell_type": "markdown",
   "metadata": {},
   "source": [
    "**2.** Familiarize yourself with the following syntax  \n",
    "Run each cell with *Shift+Enter* or by clicking \"Run\" from the menu. The python kernel interprets (only) the code that is run. Nevertheless, this notebook contains outputs from a previous run."
   ]
  },
  {
   "cell_type": "code",
   "execution_count": 1,
   "metadata": {},
   "outputs": [
    {
     "name": "stdout",
     "output_type": "stream",
     "text": [
      "a = 2 , b = 9\n"
     ]
    }
   ],
   "source": [
    "a = 1 + 1\n",
    "b = 3**a    # 3 to the power of a\n",
    "print(\"a =\", a, \", b =\", b)"
   ]
  },
  {
   "cell_type": "markdown",
   "metadata": {},
   "source": [
    "**3.** Defining functions"
   ]
  },
  {
   "cell_type": "code",
   "execution_count": 2,
   "metadata": {},
   "outputs": [
    {
     "name": "stdout",
     "output_type": "stream",
     "text": [
      "1 + 1 = 2\n",
      "bar( 1 , 0 ) called\n",
      "bar( 2 , 3 ) called\n"
     ]
    }
   ],
   "source": [
    "def foo(a):\n",
    "    return a + 1\n",
    "\n",
    "b = foo(1)\n",
    "print(\"1 + 1 =\", b)\n",
    "\n",
    "def bar(c, d=0):\n",
    "    print (\"bar(\", c, \",\", d, \") called\")\n",
    "    \n",
    "bar(1)\n",
    "bar(d=3, c=2)"
   ]
  },
  {
   "cell_type": "markdown",
   "metadata": {},
   "source": [
    "**4.** Import NumPy package for array computations  \n",
    "[NumPy basics](https://numpy.org/devdocs/user/basics.html)"
   ]
  },
  {
   "cell_type": "code",
   "execution_count": 3,
   "metadata": {},
   "outputs": [],
   "source": [
    "import numpy as np"
   ]
  },
  {
   "cell_type": "code",
   "execution_count": 4,
   "metadata": {},
   "outputs": [
    {
     "name": "stdout",
     "output_type": "stream",
     "text": [
      "[5 3 1 8 7]\n",
      "5\n",
      "7\n",
      "[3 1 8]\n",
      "[3 8]\n"
     ]
    }
   ],
   "source": [
    "y = np.array([5, 3, 1, 8, 7])\n",
    "\n",
    "print(y)\n",
    "print(y[0])      # indexing starts at 0\n",
    "print(y[-1])     # last entry, negative indices counted from end\n",
    "print(y[1:4])    # subrange from element 1 (included) to 4 (excluded), half-open integer interval\n",
    "print(y[[1, 3]]) # subset indexing"
   ]
  },
  {
   "cell_type": "code",
   "execution_count": 8,
   "metadata": {},
   "outputs": [
    {
     "name": "stdout",
     "output_type": "stream",
     "text": [
      "Matrix\n",
      " [[1 2 3]\n",
      " [4 5 6]] \n",
      "has shape (2, 3) \n",
      "The first row is [1 2 3] \n",
      "The second column is [2 5]\n"
     ]
    }
   ],
   "source": [
    "A = np.array([[1, 2, 3],[4, 5, 6]]) # a 2x3 matrix = 2-dim array\n",
    "s = A.shape\n",
    "print(\"Matrix\\n\", A, \"\\nhas shape\", s,\n",
    "      \"\\nThe first row is\", A[0],\n",
    "      \"\\nThe second column is\", A[:, 1])"
   ]
  },
  {
   "cell_type": "code",
   "execution_count": 9,
   "metadata": {},
   "outputs": [
    {
     "name": "stdout",
     "output_type": "stream",
     "text": [
      "[[ 1  4  9]\n",
      " [16 25 36]]\n"
     ]
    }
   ],
   "source": [
    "A2 = A**2 # square elementwise\n",
    "print(A2)"
   ]
  },
  {
   "cell_type": "code",
   "execution_count": 10,
   "metadata": {},
   "outputs": [
    {
     "name": "stdout",
     "output_type": "stream",
     "text": [
      "sum over columns [17 29 45]\n",
      "sum over rows [14 77]\n",
      "sum over all elements 91\n"
     ]
    }
   ],
   "source": [
    "print(\"sum over columns\", np.sum(A2, axis = 0)) # cols are 0-th axis\n",
    "print(\"sum over rows\", np.sum(A2, axis = 1))    # rows are first axis\n",
    "print(\"sum over all elements\", np.sum(A2))"
   ]
  },
  {
   "cell_type": "markdown",
   "metadata": {},
   "source": [
    "Compute the maximum over the rows of $A$. *Hint:* [np.amax](https://numpy.org/devdocs/reference/generated/numpy.amax.html#numpy.amax)"
   ]
  },
  {
   "cell_type": "code",
   "execution_count": 9,
   "metadata": {},
   "outputs": [],
   "source": [
    "# ADD YOUR CODE HERE to compute the maxima for all rows of A\n"
   ]
  },
  {
   "cell_type": "markdown",
   "metadata": {},
   "source": [
    "**Solution:** ```array([3, 6])```"
   ]
  },
  {
   "cell_type": "markdown",
   "metadata": {},
   "source": [
    "**5.** Some ways to initialize a matrix"
   ]
  },
  {
   "cell_type": "code",
   "execution_count": 12,
   "metadata": {},
   "outputs": [
    {
     "name": "stdout",
     "output_type": "stream",
     "text": [
      "N1:\n",
      " [[0. 0.]\n",
      " [0. 0.]\n",
      " [0. 0.]] \n",
      "N2:\n",
      " [[0 0]\n",
      " [0 0]\n",
      " [0 0]] \n",
      "E\n",
      " [[[1. 1. 1.]\n",
      "  [1. 1. 1.]]\n",
      "\n",
      " [[1. 1. 1.]\n",
      "  [1. 1. 1.]]] \n",
      "R\n",
      " [[0.98404412 0.78607512 0.99155423 0.15352596]\n",
      " [0.36131291 0.40462555 0.99736767 0.5988144 ]]\n"
     ]
    }
   ],
   "source": [
    "N1 = np.zeros([3, 2])  # zero-matrix of shape (3, 2)\n",
    "N2 = np.zeros([3, 2], dtype = int)  # integer data type, default is numpy.float64\n",
    "E = np.ones([2, 2, 3]) # a 2x2x3 array of ones\n",
    "R = np.random.rand(2, 4) # a 2x4 matrix of pseudorandom numbers, uniform[0,1]\n",
    "print(\"N1:\\n\", N1, \"\\nN2:\\n\", N2, \"\\nE\\n\", E, \"\\nR\\n\", R)"
   ]
  },
  {
   "cell_type": "markdown",
   "metadata": {},
   "source": [
    "**6.** Reshaping, [Shape Broadcasting](https://docs.scipy.org/doc/numpy/user/basics.broadcasting.html)"
   ]
  },
  {
   "cell_type": "code",
   "execution_count": 13,
   "metadata": {},
   "outputs": [
    {
     "name": "stdout",
     "output_type": "stream",
     "text": [
      "R has shape (2, 4) :\n",
      " [[0.98 0.79 0.99 0.15]\n",
      " [0.36 0.4  1.   0.6 ]] \n",
      "\n",
      "S has shape (4, 2) :\n",
      " [[0.98 0.79]\n",
      " [0.99 0.15]\n",
      " [0.36 0.4 ]\n",
      " [1.   0.6 ]] \n",
      "\n",
      "U has shape (8, 1) :\n",
      " [[0.98]\n",
      " [0.79]\n",
      " [0.99]\n",
      " [0.15]\n",
      " [0.36]\n",
      " [0.4 ]\n",
      " [1.  ]\n",
      " [0.6 ]]\n",
      "\n",
      "F =  [2 3 4 5]\n",
      "R + F =\n",
      " [[2.98 3.79 4.99 5.15]\n",
      " [2.36 3.4  5.   5.6 ]]\n"
     ]
    }
   ],
   "source": [
    "R = np.round(R, decimals=2) # rounding\n",
    "S = R.reshape([4, 2])\n",
    "U = R.reshape([-1, 1]) # 2-dimensional, 2nd dim has length 1, the first dim is chosen so the same data fits\n",
    "\n",
    "print(\"R has shape\",  R.shape, \":\\n\",  R,\n",
    "      \"\\n\\nS has shape\", S.shape, \":\\n\",  S,\n",
    "      \"\\n\\nU has shape\", U.shape, \":\\n\",  U)\n",
    "\n",
    "F = np.array(range(2, 6)) # range(2, 6) = [2, 3, 4, 5]\n",
    "print(\"\\nF = \", F)\n",
    "print(\"R + F =\\n\", R + F) # shape broadcasting takes place as R is 2-dim and F is 1-dim\n"
   ]
  },
  {
   "cell_type": "markdown",
   "metadata": {},
   "source": [
    "**7.** Matrix multiplication  \n",
    "Make sure to recall the definition of matrix multiplication. If $T=R\\cdot S$, then\n",
    "$$t_{i,j} = \\sum_k r_{i,k} \\cdot s_{k,j}.$$\n"
   ]
  },
  {
   "cell_type": "code",
   "execution_count": 14,
   "metadata": {},
   "outputs": [
    {
     "data": {
      "text/plain": [
       "array([[2.2489, 1.3787],\n",
       "       [1.7088, 1.1044]])"
      ]
     },
     "execution_count": 14,
     "metadata": {},
     "output_type": "execute_result"
    }
   ],
   "source": [
    "T = np.matmul(R, S) # R has as many columns as S has rows, namely 2\n",
    "T"
   ]
  },
  {
   "cell_type": "markdown",
   "metadata": {},
   "source": [
    "**8.** More Indexing"
   ]
  },
  {
   "cell_type": "code",
   "execution_count": 15,
   "metadata": {},
   "outputs": [
    {
     "name": "stdout",
     "output_type": "stream",
     "text": [
      "[[0.15]\n",
      " [0.4 ]]\n",
      "[[ 0.98  0.79]\n",
      " [ 0.99 -1.  ]\n",
      " [ 0.36 -1.  ]\n",
      " [ 1.    0.6 ]]\n"
     ]
    }
   ],
   "source": [
    "print(S[1:3, [1]]) # 2-dimensional subarray, rows 1-2 and col 1\n",
    "# Here, 1:3 is the same as [1, 2] as the right boundary (3) is excluded\n",
    "S[1:3, 1:2] = -1   # subarray can be assigned a new value \n",
    "print(S)"
   ]
  },
  {
   "cell_type": "markdown",
   "metadata": {},
   "source": [
    "**9.** Plotting"
   ]
  },
  {
   "cell_type": "code",
   "execution_count": 16,
   "metadata": {},
   "outputs": [],
   "source": [
    "import matplotlib.pyplot as plt"
   ]
  },
  {
   "cell_type": "code",
   "execution_count": 17,
   "metadata": {},
   "outputs": [
    {
     "data": {
      "image/png": "[encoded data removed]",
      "text/plain": [
       "<Figure size 432x288 with 1 Axes>"
      ]
     },
     "metadata": {
      "needs_background": "light"
     },
     "output_type": "display_data"
    }
   ],
   "source": [
    "x = np.arange(start = 0, stop = 2 * np.pi, step = 0.01) # array [0, .01, .02, ..., 2*3.14]\n",
    "y = np.sin(x) # applies sine elementwise\n",
    "plt.plot(x, y)\n",
    "plt.title(\"Sine Wave\"); # semicolon suppresses output of last line in cell"
   ]
  },
  {
   "cell_type": "code",
   "execution_count": 21,
   "metadata": {},
   "outputs": [
    {
     "name": "stdout",
     "output_type": "stream",
     "text": [
      "[[[109  22   6]\n",
      "  [226  33 182]]\n",
      "\n",
      " [[ 74 149 246]\n",
      "  [137 193  59]]]\n"
     ]
    },
    {
     "data": {
      "image/png": "[encoded data removed]",
      "text/plain": [
       "<Figure size 432x288 with 1 Axes>"
      ]
     },
     "metadata": {
      "needs_background": "light"
     },
     "output_type": "display_data"
    }
   ],
   "source": [
    "Img = np.random.randint(low=0, high=255, size=(2, 2, 3), dtype='B') # B: unsigned byte (0..255)\n",
    "print(Img) # Img is a three-dim array\n",
    "plt.imshow(Img); # third dimension interpreted as red, green, blue\n",
    "# image coordinates are numbered as in matrices, first rows (top to bottom) then columns (left to right)"
   ]
  },
  {
   "cell_type": "markdown",
   "metadata": {},
   "source": [
    "**10.** Flow control"
   ]
  },
  {
   "cell_type": "code",
   "execution_count": 22,
   "metadata": {},
   "outputs": [
    {
     "name": "stdout",
     "output_type": "stream",
     "text": [
      "0 is even\n",
      "1 is odd\n",
      "2 is even\n",
      "3 is odd\n",
      "4 is even\n",
      "5 is odd\n"
     ]
    }
   ],
   "source": [
    "for i in range(6):\n",
    "    # each level of indentation is done with a single tab\n",
    "    print (i , \"is\", end = \" \") # terminate with space instead of newline\n",
    "    if (i % 2 == 0):\n",
    "        print(\"even\")\n",
    "    else:\n",
    "        print(\"odd\")"
   ]
  },
  {
   "cell_type": "markdown",
   "metadata": {},
   "source": [
    "**11.** Define a function that takes two matrices $A$ and $B$ as input, and returns the largest entry of the matrix product $C=AB$. Apply it to the input \n",
    "\n",
    "$$A=\\begin{pmatrix}2 & 4 \\\\ 6 & 8\\end{pmatrix}, \\qquad\n",
    "B=\\begin{pmatrix}3 & 1 & 1 \\\\ 3 & 4 & 1\\end{pmatrix}.\n",
    "$$"
   ]
  },
  {
   "cell_type": "code",
   "execution_count": 23,
   "metadata": {},
   "outputs": [],
   "source": [
    "def f(A, B):\n",
    "    # ADD YOUR CODE HERE, 1-3 lines\n",
    "    pass # replace this line that only prevents a syntax error while the function is not implemented"
   ]
  },
  {
   "cell_type": "code",
   "execution_count": 24,
   "metadata": {},
   "outputs": [],
   "source": [
    "# ADD YOUR CODE HERE to define A and B\n",
    "A = None # undefined value as placeholder\n",
    "B = None"
   ]
  },
  {
   "cell_type": "code",
   "execution_count": 25,
   "metadata": {},
   "outputs": [],
   "source": [
    "# call the function on A and B\n",
    "f(A, B)"
   ]
  },
  {
   "cell_type": "markdown",
   "metadata": {},
   "source": [
    "**Solution:** ```42```"
   ]
  }
 ],
 "metadata": {
  "kernelspec": {
   "display_name": "Python 3",
   "language": "python",
   "name": "python3"
  },
  "language_info": {
   "codemirror_mode": {
    "name": "ipython",
    "version": 3
   },
   "file_extension": ".py",
   "mimetype": "text/x-python",
   "name": "python",
   "nbconvert_exporter": "python",
   "pygments_lexer": "ipython3",
   "version": "3.9.2"
  },
  "widgets": {
   "application/vnd.jupyter.widget-state+json": {
    "state": {},
    "version_major": 2,
    "version_minor": 0
   }
  }
 },
 "nbformat": 4,
 "nbformat_minor": 4
}
